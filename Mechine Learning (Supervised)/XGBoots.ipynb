{
 "cells": [
  {
   "cell_type": "markdown",
   "id": "45be6cb6-3d02-4ff4-b8fa-13def7ab4439",
   "metadata": {},
   "source": [
    "# **XGBoots (Extreme Gradient Boosting)**"
   ]
  },
  {
   "cell_type": "code",
   "execution_count": 1,
   "id": "cd2bc793-4573-4360-836b-6196a00ae86d",
   "metadata": {},
   "outputs": [],
   "source": [
    "import pandas as pd\n",
    "import numpy as np\n",
    "\n",
    "from sklearn.model_selection import train_test_split\n",
    "from sklearn.pipeline import Pipeline\n",
    "from sklearn.compose import ColumnTransformer\n",
    "\n",
    "from jcopml.pipeline import num_pipe, cat_pipe\n",
    "from jcopml.utils import save_model, load_model\n",
    "from jcopml.plot import plot_missing_value"
   ]
  },
  {
   "cell_type": "markdown",
   "id": "157e4052-61fa-4e99-a84c-55880035635e",
   "metadata": {},
   "source": [
    "## Import Data"
   ]
  },
  {
   "cell_type": "code",
   "execution_count": 2,
   "id": "17b685e1-f329-4317-93af-786528b461bb",
   "metadata": {},
   "outputs": [
    {
     "data": {
      "text/html": [
       "<div>\n",
       "<style scoped>\n",
       "    .dataframe tbody tr th:only-of-type {\n",
       "        vertical-align: middle;\n",
       "    }\n",
       "\n",
       "    .dataframe tbody tr th {\n",
       "        vertical-align: top;\n",
       "    }\n",
       "\n",
       "    .dataframe thead th {\n",
       "        text-align: right;\n",
       "    }\n",
       "</style>\n",
       "<table border=\"1\" class=\"dataframe\">\n",
       "  <thead>\n",
       "    <tr style=\"text-align: right;\">\n",
       "      <th></th>\n",
       "      <th>country</th>\n",
       "      <th>year</th>\n",
       "      <th>status</th>\n",
       "      <th>life_expectancy</th>\n",
       "      <th>adult_mortality</th>\n",
       "      <th>infant_deaths</th>\n",
       "      <th>alcohol</th>\n",
       "      <th>percentage_expenditure</th>\n",
       "      <th>HepB</th>\n",
       "      <th>measles</th>\n",
       "      <th>...</th>\n",
       "      <th>Polio</th>\n",
       "      <th>total_expenditure</th>\n",
       "      <th>DPT</th>\n",
       "      <th>HIV_AIDS</th>\n",
       "      <th>GDP</th>\n",
       "      <th>population</th>\n",
       "      <th>thinness_10_19</th>\n",
       "      <th>thinness_5_9</th>\n",
       "      <th>HDI</th>\n",
       "      <th>school_year</th>\n",
       "    </tr>\n",
       "  </thead>\n",
       "  <tbody>\n",
       "    <tr>\n",
       "      <th>0</th>\n",
       "      <td>Afghanistan</td>\n",
       "      <td>2015</td>\n",
       "      <td>Developing</td>\n",
       "      <td>65.0</td>\n",
       "      <td>263.0</td>\n",
       "      <td>62</td>\n",
       "      <td>0.01</td>\n",
       "      <td>71.279624</td>\n",
       "      <td>65.0</td>\n",
       "      <td>1154</td>\n",
       "      <td>...</td>\n",
       "      <td>6.0</td>\n",
       "      <td>8.16</td>\n",
       "      <td>65.0</td>\n",
       "      <td>0.1</td>\n",
       "      <td>584.259210</td>\n",
       "      <td>33736494.0</td>\n",
       "      <td>17.2</td>\n",
       "      <td>17.3</td>\n",
       "      <td>0.479</td>\n",
       "      <td>10.1</td>\n",
       "    </tr>\n",
       "    <tr>\n",
       "      <th>1</th>\n",
       "      <td>Afghanistan</td>\n",
       "      <td>2014</td>\n",
       "      <td>Developing</td>\n",
       "      <td>59.9</td>\n",
       "      <td>271.0</td>\n",
       "      <td>64</td>\n",
       "      <td>0.01</td>\n",
       "      <td>73.523582</td>\n",
       "      <td>62.0</td>\n",
       "      <td>492</td>\n",
       "      <td>...</td>\n",
       "      <td>58.0</td>\n",
       "      <td>8.18</td>\n",
       "      <td>62.0</td>\n",
       "      <td>0.1</td>\n",
       "      <td>612.696514</td>\n",
       "      <td>327582.0</td>\n",
       "      <td>17.5</td>\n",
       "      <td>17.5</td>\n",
       "      <td>0.476</td>\n",
       "      <td>10.0</td>\n",
       "    </tr>\n",
       "    <tr>\n",
       "      <th>2</th>\n",
       "      <td>Afghanistan</td>\n",
       "      <td>2013</td>\n",
       "      <td>Developing</td>\n",
       "      <td>59.9</td>\n",
       "      <td>268.0</td>\n",
       "      <td>66</td>\n",
       "      <td>0.01</td>\n",
       "      <td>73.219243</td>\n",
       "      <td>64.0</td>\n",
       "      <td>430</td>\n",
       "      <td>...</td>\n",
       "      <td>62.0</td>\n",
       "      <td>8.13</td>\n",
       "      <td>64.0</td>\n",
       "      <td>0.1</td>\n",
       "      <td>631.744976</td>\n",
       "      <td>31731688.0</td>\n",
       "      <td>17.7</td>\n",
       "      <td>17.7</td>\n",
       "      <td>0.470</td>\n",
       "      <td>9.9</td>\n",
       "    </tr>\n",
       "    <tr>\n",
       "      <th>3</th>\n",
       "      <td>Afghanistan</td>\n",
       "      <td>2012</td>\n",
       "      <td>Developing</td>\n",
       "      <td>59.5</td>\n",
       "      <td>272.0</td>\n",
       "      <td>69</td>\n",
       "      <td>0.01</td>\n",
       "      <td>78.184215</td>\n",
       "      <td>67.0</td>\n",
       "      <td>2787</td>\n",
       "      <td>...</td>\n",
       "      <td>67.0</td>\n",
       "      <td>8.52</td>\n",
       "      <td>67.0</td>\n",
       "      <td>0.1</td>\n",
       "      <td>669.959000</td>\n",
       "      <td>3696958.0</td>\n",
       "      <td>17.9</td>\n",
       "      <td>18.0</td>\n",
       "      <td>0.463</td>\n",
       "      <td>9.8</td>\n",
       "    </tr>\n",
       "    <tr>\n",
       "      <th>4</th>\n",
       "      <td>Afghanistan</td>\n",
       "      <td>2011</td>\n",
       "      <td>Developing</td>\n",
       "      <td>59.2</td>\n",
       "      <td>275.0</td>\n",
       "      <td>71</td>\n",
       "      <td>0.01</td>\n",
       "      <td>7.097109</td>\n",
       "      <td>68.0</td>\n",
       "      <td>3013</td>\n",
       "      <td>...</td>\n",
       "      <td>68.0</td>\n",
       "      <td>7.87</td>\n",
       "      <td>68.0</td>\n",
       "      <td>0.1</td>\n",
       "      <td>63.537231</td>\n",
       "      <td>2978599.0</td>\n",
       "      <td>18.2</td>\n",
       "      <td>18.2</td>\n",
       "      <td>0.454</td>\n",
       "      <td>9.5</td>\n",
       "    </tr>\n",
       "  </tbody>\n",
       "</table>\n",
       "<p>5 rows × 22 columns</p>\n",
       "</div>"
      ],
      "text/plain": [
       "       country  year      status  life_expectancy  adult_mortality  \\\n",
       "0  Afghanistan  2015  Developing             65.0            263.0   \n",
       "1  Afghanistan  2014  Developing             59.9            271.0   \n",
       "2  Afghanistan  2013  Developing             59.9            268.0   \n",
       "3  Afghanistan  2012  Developing             59.5            272.0   \n",
       "4  Afghanistan  2011  Developing             59.2            275.0   \n",
       "\n",
       "   infant_deaths  alcohol  percentage_expenditure  HepB  measles  ...  Polio  \\\n",
       "0             62     0.01               71.279624  65.0     1154  ...    6.0   \n",
       "1             64     0.01               73.523582  62.0      492  ...   58.0   \n",
       "2             66     0.01               73.219243  64.0      430  ...   62.0   \n",
       "3             69     0.01               78.184215  67.0     2787  ...   67.0   \n",
       "4             71     0.01                7.097109  68.0     3013  ...   68.0   \n",
       "\n",
       "   total_expenditure   DPT  HIV_AIDS         GDP  population  thinness_10_19  \\\n",
       "0               8.16  65.0       0.1  584.259210  33736494.0            17.2   \n",
       "1               8.18  62.0       0.1  612.696514    327582.0            17.5   \n",
       "2               8.13  64.0       0.1  631.744976  31731688.0            17.7   \n",
       "3               8.52  67.0       0.1  669.959000   3696958.0            17.9   \n",
       "4               7.87  68.0       0.1   63.537231   2978599.0            18.2   \n",
       "\n",
       "   thinness_5_9    HDI  school_year  \n",
       "0          17.3  0.479         10.1  \n",
       "1          17.5  0.476         10.0  \n",
       "2          17.7  0.470          9.9  \n",
       "3          18.0  0.463          9.8  \n",
       "4          18.2  0.454          9.5  \n",
       "\n",
       "[5 rows x 22 columns]"
      ]
     },
     "execution_count": 2,
     "metadata": {},
     "output_type": "execute_result"
    }
   ],
   "source": [
    "df = pd.read_csv(\"../data/life_expectancy.csv\")\n",
    "df.head()"
   ]
  },
  {
   "cell_type": "code",
   "execution_count": 3,
   "id": "048a4103-1431-47e1-8b5e-76907370967d",
   "metadata": {},
   "outputs": [
    {
     "data": {
      "image/png": "[encoded data removed]",
      "text/plain": [
       "<Figure size 1080x576 with 1 Axes>"
      ]
     },
     "metadata": {
      "needs_background": "light"
     },
     "output_type": "display_data"
    }
   ],
   "source": [
    "plot_missing_value(df)"
   ]
  },
  {
   "cell_type": "code",
   "execution_count": 4,
   "id": "6067acf0-5cda-413f-964c-46c7966a42f2",
   "metadata": {},
   "outputs": [
    {
     "name": "stdout",
     "output_type": "stream",
     "text": [
      "<class 'pandas.core.frame.DataFrame'>\n",
      "RangeIndex: 2938 entries, 0 to 2937\n",
      "Data columns (total 22 columns):\n",
      " #   Column                  Non-Null Count  Dtype  \n",
      "---  ------                  --------------  -----  \n",
      " 0   country                 2938 non-null   object \n",
      " 1   year                    2938 non-null   int64  \n",
      " 2   status                  2938 non-null   object \n",
      " 3   life_expectancy         2928 non-null   float64\n",
      " 4   adult_mortality         2928 non-null   float64\n",
      " 5   infant_deaths           2938 non-null   int64  \n",
      " 6   alcohol                 2744 non-null   float64\n",
      " 7   percentage_expenditure  2938 non-null   float64\n",
      " 8   HepB                    2385 non-null   float64\n",
      " 9   measles                 2938 non-null   int64  \n",
      " 10  BMI                     2904 non-null   float64\n",
      " 11  u5_deaths               2938 non-null   int64  \n",
      " 12  Polio                   2919 non-null   float64\n",
      " 13  total_expenditure       2712 non-null   float64\n",
      " 14  DPT                     2919 non-null   float64\n",
      " 15  HIV_AIDS                2938 non-null   float64\n",
      " 16  GDP                     2490 non-null   float64\n",
      " 17  population              2286 non-null   float64\n",
      " 18  thinness_10_19          2904 non-null   float64\n",
      " 19  thinness_5_9            2904 non-null   float64\n",
      " 20  HDI                     2771 non-null   float64\n",
      " 21  school_year             2775 non-null   float64\n",
      "dtypes: float64(16), int64(4), object(2)\n",
      "memory usage: 505.1+ KB\n"
     ]
    }
   ],
   "source": [
    "df.info()"
   ]
  },
  {
   "cell_type": "code",
   "execution_count": 5,
   "id": "88ace3e5-4467-446e-a2ca-a1b6bcda0592",
   "metadata": {},
   "outputs": [
    {
     "name": "stdout",
     "output_type": "stream",
     "text": [
      "<class 'pandas.core.frame.DataFrame'>\n",
      "Int64Index: 2928 entries, 0 to 2937\n",
      "Data columns (total 22 columns):\n",
      " #   Column                  Non-Null Count  Dtype  \n",
      "---  ------                  --------------  -----  \n",
      " 0   country                 2928 non-null   object \n",
      " 1   year                    2928 non-null   int64  \n",
      " 2   status                  2928 non-null   object \n",
      " 3   life_expectancy         2928 non-null   float64\n",
      " 4   adult_mortality         2928 non-null   float64\n",
      " 5   infant_deaths           2928 non-null   int64  \n",
      " 6   alcohol                 2735 non-null   float64\n",
      " 7   percentage_expenditure  2928 non-null   float64\n",
      " 8   HepB                    2375 non-null   float64\n",
      " 9   measles                 2928 non-null   int64  \n",
      " 10  BMI                     2896 non-null   float64\n",
      " 11  u5_deaths               2928 non-null   int64  \n",
      " 12  Polio                   2909 non-null   float64\n",
      " 13  total_expenditure       2702 non-null   float64\n",
      " 14  DPT                     2909 non-null   float64\n",
      " 15  HIV_AIDS                2928 non-null   float64\n",
      " 16  GDP                     2485 non-null   float64\n",
      " 17  population              2284 non-null   float64\n",
      " 18  thinness_10_19          2896 non-null   float64\n",
      " 19  thinness_5_9            2896 non-null   float64\n",
      " 20  HDI                     2768 non-null   float64\n",
      " 21  school_year             2768 non-null   float64\n",
      "dtypes: float64(16), int64(4), object(2)\n",
      "memory usage: 526.1+ KB\n"
     ]
    }
   ],
   "source": [
    "df= df[~df[\"life_expectancy\"].isna()]\n",
    "df.info()"
   ]
  },
  {
   "cell_type": "code",
   "execution_count": 6,
   "id": "14f0629d-b28e-48e7-b806-ca9ef197046f",
   "metadata": {},
   "outputs": [
    {
     "data": {
      "image/png": "[encoded data removed]",
      "text/plain": [
       "<Figure size 1080x576 with 1 Axes>"
      ]
     },
     "metadata": {
      "needs_background": "light"
     },
     "output_type": "display_data"
    }
   ],
   "source": [
    "plot_missing_value(df)"
   ]
  },
  {
   "cell_type": "markdown",
   "id": "231405db-c7d6-45d2-a079-4a8a10c0d771",
   "metadata": {},
   "source": [
    "## Split Data"
   ]
  },
  {
   "cell_type": "code",
   "execution_count": 7,
   "id": "dda29c3a-357e-4274-919d-288627314a4f",
   "metadata": {},
   "outputs": [
    {
     "data": {
      "text/plain": [
       "((2342, 21), (586, 21), (2342,), (586,))"
      ]
     },
     "execution_count": 7,
     "metadata": {},
     "output_type": "execute_result"
    }
   ],
   "source": [
    "X = df.drop(columns=[\"life_expectancy\"])\n",
    "y = df[\"life_expectancy\"]\n",
    "\n",
    "X_train, X_test, y_train, y_test = train_test_split(X, y, test_size=0.2, random_state=42)\n",
    "X_train.shape, X_test.shape, y_train.shape, y_test.shape"
   ]
  },
  {
   "cell_type": "markdown",
   "id": "5f57f88d-a1a7-42f8-857b-434a0d360c6e",
   "metadata": {},
   "source": [
    "## Training"
   ]
  },
  {
   "cell_type": "code",
   "execution_count": 28,
   "id": "ec471b99-a543-4b46-b141-ebc49ee8c96f",
   "metadata": {},
   "outputs": [],
   "source": [
    "from xgboost import XGBRegressor\n",
    "from sklearn.model_selection import RandomizedSearchCV\n",
    "from jcopml.tuning import random_search_params as rsp"
   ]
  },
  {
   "cell_type": "code",
   "execution_count": 9,
   "id": "4316036c-a3bb-40cb-b812-95c0a735a05a",
   "metadata": {},
   "outputs": [
    {
     "data": {
      "text/html": [
       "<div>\n",
       "<style scoped>\n",
       "    .dataframe tbody tr th:only-of-type {\n",
       "        vertical-align: middle;\n",
       "    }\n",
       "\n",
       "    .dataframe tbody tr th {\n",
       "        vertical-align: top;\n",
       "    }\n",
       "\n",
       "    .dataframe thead th {\n",
       "        text-align: right;\n",
       "    }\n",
       "</style>\n",
       "<table border=\"1\" class=\"dataframe\">\n",
       "  <thead>\n",
       "    <tr style=\"text-align: right;\">\n",
       "      <th></th>\n",
       "      <th>country</th>\n",
       "      <th>year</th>\n",
       "      <th>status</th>\n",
       "      <th>adult_mortality</th>\n",
       "      <th>infant_deaths</th>\n",
       "      <th>alcohol</th>\n",
       "      <th>percentage_expenditure</th>\n",
       "      <th>HepB</th>\n",
       "      <th>measles</th>\n",
       "      <th>BMI</th>\n",
       "      <th>u5_deaths</th>\n",
       "      <th>Polio</th>\n",
       "      <th>total_expenditure</th>\n",
       "      <th>DPT</th>\n",
       "      <th>HIV_AIDS</th>\n",
       "      <th>GDP</th>\n",
       "      <th>population</th>\n",
       "      <th>thinness_10_19</th>\n",
       "      <th>thinness_5_9</th>\n",
       "      <th>HDI</th>\n",
       "      <th>school_year</th>\n",
       "    </tr>\n",
       "  </thead>\n",
       "  <tbody>\n",
       "    <tr>\n",
       "      <th>2268</th>\n",
       "      <td>Serbia</td>\n",
       "      <td>2012</td>\n",
       "      <td>Developing</td>\n",
       "      <td>126.0</td>\n",
       "      <td>1</td>\n",
       "      <td>9.38</td>\n",
       "      <td>742.510971</td>\n",
       "      <td>97.0</td>\n",
       "      <td>0</td>\n",
       "      <td>58.3</td>\n",
       "      <td>1</td>\n",
       "      <td>93.0</td>\n",
       "      <td>9.89</td>\n",
       "      <td>91.0</td>\n",
       "      <td>0.1</td>\n",
       "      <td>5659.382400</td>\n",
       "      <td>719977.0</td>\n",
       "      <td>2.1</td>\n",
       "      <td>2.1</td>\n",
       "      <td>0.767</td>\n",
       "      <td>14.0</td>\n",
       "    </tr>\n",
       "    <tr>\n",
       "      <th>1680</th>\n",
       "      <td>Mauritius</td>\n",
       "      <td>2002</td>\n",
       "      <td>Developing</td>\n",
       "      <td>179.0</td>\n",
       "      <td>0</td>\n",
       "      <td>4.14</td>\n",
       "      <td>369.631710</td>\n",
       "      <td>88.0</td>\n",
       "      <td>0</td>\n",
       "      <td>26.4</td>\n",
       "      <td>0</td>\n",
       "      <td>88.0</td>\n",
       "      <td>4.24</td>\n",
       "      <td>88.0</td>\n",
       "      <td>0.1</td>\n",
       "      <td>3957.512960</td>\n",
       "      <td>124621.0</td>\n",
       "      <td>7.9</td>\n",
       "      <td>7.9</td>\n",
       "      <td>0.683</td>\n",
       "      <td>12.5</td>\n",
       "    </tr>\n",
       "    <tr>\n",
       "      <th>2785</th>\n",
       "      <td>United Republic of Tanzania</td>\n",
       "      <td>2008</td>\n",
       "      <td>Developing</td>\n",
       "      <td>376.0</td>\n",
       "      <td>92</td>\n",
       "      <td>3.44</td>\n",
       "      <td>0.000000</td>\n",
       "      <td>86.0</td>\n",
       "      <td>3413</td>\n",
       "      <td>19.6</td>\n",
       "      <td>138</td>\n",
       "      <td>89.0</td>\n",
       "      <td>4.21</td>\n",
       "      <td>86.0</td>\n",
       "      <td>7.4</td>\n",
       "      <td>NaN</td>\n",
       "      <td>NaN</td>\n",
       "      <td>7.3</td>\n",
       "      <td>7.3</td>\n",
       "      <td>NaN</td>\n",
       "      <td>NaN</td>\n",
       "    </tr>\n",
       "    <tr>\n",
       "      <th>2512</th>\n",
       "      <td>Sweden</td>\n",
       "      <td>2008</td>\n",
       "      <td>Developed</td>\n",
       "      <td>62.0</td>\n",
       "      <td>0</td>\n",
       "      <td>6.90</td>\n",
       "      <td>8105.590882</td>\n",
       "      <td>NaN</td>\n",
       "      <td>25</td>\n",
       "      <td>56.5</td>\n",
       "      <td>0</td>\n",
       "      <td>98.0</td>\n",
       "      <td>9.23</td>\n",
       "      <td>98.0</td>\n",
       "      <td>0.1</td>\n",
       "      <td>55746.842380</td>\n",
       "      <td>9219637.0</td>\n",
       "      <td>1.3</td>\n",
       "      <td>1.3</td>\n",
       "      <td>0.897</td>\n",
       "      <td>15.7</td>\n",
       "    </tr>\n",
       "    <tr>\n",
       "      <th>1090</th>\n",
       "      <td>Guinea-Bissau</td>\n",
       "      <td>2015</td>\n",
       "      <td>Developing</td>\n",
       "      <td>275.0</td>\n",
       "      <td>4</td>\n",
       "      <td>NaN</td>\n",
       "      <td>0.000000</td>\n",
       "      <td>87.0</td>\n",
       "      <td>153</td>\n",
       "      <td>26.3</td>\n",
       "      <td>6</td>\n",
       "      <td>87.0</td>\n",
       "      <td>NaN</td>\n",
       "      <td>87.0</td>\n",
       "      <td>3.2</td>\n",
       "      <td>596.871719</td>\n",
       "      <td>177526.0</td>\n",
       "      <td>7.1</td>\n",
       "      <td>7.0</td>\n",
       "      <td>0.421</td>\n",
       "      <td>9.2</td>\n",
       "    </tr>\n",
       "  </tbody>\n",
       "</table>\n",
       "</div>"
      ],
      "text/plain": [
       "                          country  year      status  adult_mortality  \\\n",
       "2268                       Serbia  2012  Developing            126.0   \n",
       "1680                    Mauritius  2002  Developing            179.0   \n",
       "2785  United Republic of Tanzania  2008  Developing            376.0   \n",
       "2512                       Sweden  2008   Developed             62.0   \n",
       "1090                Guinea-Bissau  2015  Developing            275.0   \n",
       "\n",
       "      infant_deaths  alcohol  percentage_expenditure  HepB  measles   BMI  \\\n",
       "2268              1     9.38              742.510971  97.0        0  58.3   \n",
       "1680              0     4.14              369.631710  88.0        0  26.4   \n",
       "2785             92     3.44                0.000000  86.0     3413  19.6   \n",
       "2512              0     6.90             8105.590882   NaN       25  56.5   \n",
       "1090              4      NaN                0.000000  87.0      153  26.3   \n",
       "\n",
       "      u5_deaths  Polio  total_expenditure   DPT  HIV_AIDS           GDP  \\\n",
       "2268          1   93.0               9.89  91.0       0.1   5659.382400   \n",
       "1680          0   88.0               4.24  88.0       0.1   3957.512960   \n",
       "2785        138   89.0               4.21  86.0       7.4           NaN   \n",
       "2512          0   98.0               9.23  98.0       0.1  55746.842380   \n",
       "1090          6   87.0                NaN  87.0       3.2    596.871719   \n",
       "\n",
       "      population  thinness_10_19  thinness_5_9    HDI  school_year  \n",
       "2268    719977.0             2.1           2.1  0.767         14.0  \n",
       "1680    124621.0             7.9           7.9  0.683         12.5  \n",
       "2785         NaN             7.3           7.3    NaN          NaN  \n",
       "2512   9219637.0             1.3           1.3  0.897         15.7  \n",
       "1090    177526.0             7.1           7.0  0.421          9.2  "
      ]
     },
     "execution_count": 9,
     "metadata": {},
     "output_type": "execute_result"
    }
   ],
   "source": [
    "pd.set_option('display.max_columns', None)\n",
    "X_train.head()"
   ]
  },
  {
   "cell_type": "code",
   "execution_count": 10,
   "id": "ce61c248-9fb2-462e-92a4-ece357dba5a4",
   "metadata": {},
   "outputs": [
    {
     "data": {
      "text/plain": [
       "{'algo__max_depth': Integer(low=1, high=10),\n",
       " 'algo__learning_rate': Real(low=-2, high=0, prior='log-uniform'),\n",
       " 'algo__n_estimators': Integer(low=100, high=200),\n",
       " 'algo__subsample': Real(low=0.3, high=0.8, prior='uniform'),\n",
       " 'algo__gamma': Integer(low=1, high=10),\n",
       " 'algo__colsample_bytree': Real(low=0.1, high=1, prior='uniform'),\n",
       " 'algo__reg_alpha': Real(low=-3, high=1, prior='log-uniform'),\n",
       " 'algo__reg_lambda': Real(low=-3, high=1, prior='log-uniform')}"
      ]
     },
     "execution_count": 10,
     "metadata": {},
     "output_type": "execute_result"
    }
   ],
   "source": [
    "rsp.xgb_params"
   ]
  },
  {
   "cell_type": "markdown",
   "id": "b279be28-4ade-4ae5-9ceb-54fd4fdfd140",
   "metadata": {},
   "source": [
    "parameter disini satuan nya rentang bisa diatur manual melalui pakage jcompl.tuning.space\n",
    "- max depth brp banyak dicions yang mw di buat\n",
    "- n estimator = berapa banyak pohon yang ingin dibuat\n",
    "- subsample = berapa baris data yang ingin dimabil satuan persentase\n",
    "- colsample = berapa colom data yang ingin dimabil satuan persentase dalam rf ini sama dengan max features\n",
    "- gamma = minimum loss decrease for split to happen inti nya sama dengan minimum sample leaf\n",
    "- reg_alpha dan reg_lambda inti nya untuk mengurangi overvit"
   ]
  },
  {
   "cell_type": "code",
   "execution_count": 11,
   "id": "5c9e8cf3-a671-462e-9503-b4d009acc987",
   "metadata": {},
   "outputs": [
    {
     "data": {
      "text/plain": [
       "Index(['country', 'year', 'status', 'adult_mortality', 'infant_deaths',\n",
       "       'alcohol', 'percentage_expenditure', 'HepB', 'measles', 'BMI',\n",
       "       'u5_deaths', 'Polio', 'total_expenditure', 'DPT', 'HIV_AIDS', 'GDP',\n",
       "       'population', 'thinness_10_19', 'thinness_5_9', 'HDI', 'school_year'],\n",
       "      dtype='object')"
      ]
     },
     "execution_count": 11,
     "metadata": {},
     "output_type": "execute_result"
    }
   ],
   "source": [
    "X_train.columns"
   ]
  },
  {
   "cell_type": "code",
   "execution_count": 35,
   "id": "e3013747-366d-494a-831d-dda2e833ae97",
   "metadata": {},
   "outputs": [
    {
     "name": "stdout",
     "output_type": "stream",
     "text": [
      "Fitting 3 folds for each of 1 candidates, totalling 3 fits\n",
      "{'algo__colsample_bytree': 0.4370861069626263, 'algo__gamma': 8, 'algo__learning_rate': 0.1575132049977973, 'algo__max_depth': 7, 'algo__n_estimators': 182, 'algo__reg_alpha': 0.0025113061677390002, 'algo__reg_lambda': 0.06870614282613305, 'algo__subsample': 0.4668543055695109}\n",
      "0.9916964653622803 0.9603895336728145 0.9534585681438598\n"
     ]
    }
   ],
   "source": [
    "preprocesor = ColumnTransformer([\n",
    "    (\"numeric\", num_pipe(),['year', 'adult_mortality', 'infant_deaths',\n",
    "       'alcohol', 'percentage_expenditure', 'HepB', 'measles', 'BMI',\n",
    "       'u5_deaths', 'Polio', 'total_expenditure', 'DPT', 'HIV_AIDS', 'GDP',\n",
    "       'population', 'thinness_10_19', 'thinness_5_9', 'HDI', 'school_year']),\n",
    "    (\"categoric\",cat_pipe(encoder='onehot'), ['country','status'])\n",
    "])\n",
    "\n",
    "pipeline = Pipeline([\n",
    "    (\"prep\", preprocesor),\n",
    "    (\"algo\", XGBRegressor(n_jobs=-1, random_state=42))\n",
    "])\n",
    "\n",
    "#Tuning\n",
    "model = RandomizedSearchCV(pipeline,rsp.xgb_params,cv=3, n_iter=1, n_jobs=-1, verbose=1, random_state=42)\n",
    "model.fit(X_train, y_train)\n",
    "\n",
    "print(model.best_params_)\n",
    "print(model.score(X_train, y_train),  model.score(X_test, y_test), model.best_score_)"
   ]
  },
  {
   "cell_type": "markdown",
   "id": "3b369952-529f-400b-bf4e-dd18134e61f4",
   "metadata": {},
   "source": [
    "`Kenapa Pake n-iter = 1 klw set 50 lama jalanin nya maklum pc kentang`"
   ]
  },
  {
   "cell_type": "markdown",
   "id": "fb8f2768-d061-494c-9b3b-c3651bc581ae",
   "metadata": {},
   "source": [
    "# Bayesian Search Teknik Baru\n",
    "Konsep nya sama seperti game BattleShip `` https://www.youtube.com/watch?v=4gHJlYLomrs ``"
   ]
  },
  {
   "cell_type": "code",
   "execution_count": 41,
   "id": "3eb8097c-f0f4-4b4a-8b06-f00a3bb2424f",
   "metadata": {},
   "outputs": [],
   "source": [
    "from skopt import BayesSearchCV\n",
    "from jcopml.tuning import bayes_search_params as bsp"
   ]
  },
  {
   "cell_type": "code",
   "execution_count": 47,
   "id": "a5b41598-791b-4f5b-b131-8f0d7686dbfd",
   "metadata": {},
   "outputs": [
    {
     "ename": "TypeError",
     "evalue": "__init__() got an unexpected keyword argument 'iid'",
     "output_type": "error",
     "traceback": [
      "\u001b[0;31m---------------------------------------------------------------------------\u001b[0m",
      "\u001b[0;31mTypeError\u001b[0m                                 Traceback (most recent call last)",
      "\u001b[0;32m/tmp/ipykernel_5675/2418210448.py\u001b[0m in \u001b[0;36m<module>\u001b[0;34m\u001b[0m\n\u001b[1;32m     13\u001b[0m \u001b[0;34m\u001b[0m\u001b[0m\n\u001b[1;32m     14\u001b[0m \u001b[0;31m#Tuning\u001b[0m\u001b[0;34m\u001b[0m\u001b[0;34m\u001b[0m\u001b[0;34m\u001b[0m\u001b[0m\n\u001b[0;32m---> 15\u001b[0;31m \u001b[0mmodel\u001b[0m \u001b[0;34m=\u001b[0m \u001b[0mBayesSearchCV\u001b[0m\u001b[0;34m(\u001b[0m\u001b[0mpipeline\u001b[0m\u001b[0;34m,\u001b[0m \u001b[0mbsp\u001b[0m\u001b[0;34m.\u001b[0m\u001b[0mxgb_params\u001b[0m\u001b[0;34m,\u001b[0m \u001b[0mcv\u001b[0m\u001b[0;34m=\u001b[0m\u001b[0;36m3\u001b[0m\u001b[0;34m,\u001b[0m \u001b[0mn_iter\u001b[0m\u001b[0;34m=\u001b[0m\u001b[0;36m5\u001b[0m\u001b[0;34m,\u001b[0m \u001b[0mn_jobs\u001b[0m\u001b[0;34m=\u001b[0m\u001b[0;34m-\u001b[0m\u001b[0;36m1\u001b[0m\u001b[0;34m,\u001b[0m \u001b[0mverbose\u001b[0m\u001b[0;34m=\u001b[0m\u001b[0;36m1\u001b[0m\u001b[0;34m,\u001b[0m \u001b[0mrandom_state\u001b[0m\u001b[0;34m=\u001b[0m\u001b[0;36m42\u001b[0m\u001b[0;34m)\u001b[0m\u001b[0;34m\u001b[0m\u001b[0;34m\u001b[0m\u001b[0m\n\u001b[0m\u001b[1;32m     16\u001b[0m \u001b[0mmodel\u001b[0m\u001b[0;34m.\u001b[0m\u001b[0mfit\u001b[0m\u001b[0;34m(\u001b[0m\u001b[0mX_train\u001b[0m\u001b[0;34m,\u001b[0m \u001b[0my_train\u001b[0m\u001b[0;34m)\u001b[0m\u001b[0;34m\u001b[0m\u001b[0;34m\u001b[0m\u001b[0m\n\u001b[1;32m     17\u001b[0m \u001b[0;34m\u001b[0m\u001b[0m\n",
      "\u001b[0;32m~/anaconda3/lib/python3.8/site-packages/skopt/searchcv.py\u001b[0m in \u001b[0;36m__init__\u001b[0;34m(self, estimator, search_spaces, optimizer_kwargs, n_iter, scoring, fit_params, n_jobs, n_points, iid, refit, cv, verbose, pre_dispatch, random_state, error_score, return_train_score)\u001b[0m\n\u001b[1;32m    307\u001b[0m         \u001b[0mself\u001b[0m\u001b[0;34m.\u001b[0m\u001b[0mfit_params\u001b[0m \u001b[0;34m=\u001b[0m \u001b[0mfit_params\u001b[0m\u001b[0;34m\u001b[0m\u001b[0;34m\u001b[0m\u001b[0m\n\u001b[1;32m    308\u001b[0m \u001b[0;34m\u001b[0m\u001b[0m\n\u001b[0;32m--> 309\u001b[0;31m         super(BayesSearchCV, self).__init__(\n\u001b[0m\u001b[1;32m    310\u001b[0m              \u001b[0mestimator\u001b[0m\u001b[0;34m=\u001b[0m\u001b[0mestimator\u001b[0m\u001b[0;34m,\u001b[0m \u001b[0mscoring\u001b[0m\u001b[0;34m=\u001b[0m\u001b[0mscoring\u001b[0m\u001b[0;34m,\u001b[0m\u001b[0;34m\u001b[0m\u001b[0;34m\u001b[0m\u001b[0m\n\u001b[1;32m    311\u001b[0m              \u001b[0mn_jobs\u001b[0m\u001b[0;34m=\u001b[0m\u001b[0mn_jobs\u001b[0m\u001b[0;34m,\u001b[0m \u001b[0miid\u001b[0m\u001b[0;34m=\u001b[0m\u001b[0miid\u001b[0m\u001b[0;34m,\u001b[0m \u001b[0mrefit\u001b[0m\u001b[0;34m=\u001b[0m\u001b[0mrefit\u001b[0m\u001b[0;34m,\u001b[0m \u001b[0mcv\u001b[0m\u001b[0;34m=\u001b[0m\u001b[0mcv\u001b[0m\u001b[0;34m,\u001b[0m \u001b[0mverbose\u001b[0m\u001b[0;34m=\u001b[0m\u001b[0mverbose\u001b[0m\u001b[0;34m,\u001b[0m\u001b[0;34m\u001b[0m\u001b[0;34m\u001b[0m\u001b[0m\n",
      "\u001b[0;32m~/anaconda3/lib/python3.8/site-packages/sklearn/utils/validation.py\u001b[0m in \u001b[0;36minner_f\u001b[0;34m(*args, **kwargs)\u001b[0m\n\u001b[1;32m     61\u001b[0m             \u001b[0mextra_args\u001b[0m \u001b[0;34m=\u001b[0m \u001b[0mlen\u001b[0m\u001b[0;34m(\u001b[0m\u001b[0margs\u001b[0m\u001b[0;34m)\u001b[0m \u001b[0;34m-\u001b[0m \u001b[0mlen\u001b[0m\u001b[0;34m(\u001b[0m\u001b[0mall_args\u001b[0m\u001b[0;34m)\u001b[0m\u001b[0;34m\u001b[0m\u001b[0;34m\u001b[0m\u001b[0m\n\u001b[1;32m     62\u001b[0m             \u001b[0;32mif\u001b[0m \u001b[0mextra_args\u001b[0m \u001b[0;34m<=\u001b[0m \u001b[0;36m0\u001b[0m\u001b[0;34m:\u001b[0m\u001b[0;34m\u001b[0m\u001b[0;34m\u001b[0m\u001b[0m\n\u001b[0;32m---> 63\u001b[0;31m                 \u001b[0;32mreturn\u001b[0m \u001b[0mf\u001b[0m\u001b[0;34m(\u001b[0m\u001b[0;34m*\u001b[0m\u001b[0margs\u001b[0m\u001b[0;34m,\u001b[0m \u001b[0;34m**\u001b[0m\u001b[0mkwargs\u001b[0m\u001b[0;34m)\u001b[0m\u001b[0;34m\u001b[0m\u001b[0;34m\u001b[0m\u001b[0m\n\u001b[0m\u001b[1;32m     64\u001b[0m \u001b[0;34m\u001b[0m\u001b[0m\n\u001b[1;32m     65\u001b[0m             \u001b[0;31m# extra_args > 0\u001b[0m\u001b[0;34m\u001b[0m\u001b[0;34m\u001b[0m\u001b[0;34m\u001b[0m\u001b[0m\n",
      "\u001b[0;31mTypeError\u001b[0m: __init__() got an unexpected keyword argument 'iid'"
     ]
    }
   ],
   "source": [
    "preprocesor = ColumnTransformer([\n",
    "    (\"numeric\", num_pipe(),['year', 'adult_mortality', 'infant_deaths',\n",
    "       'alcohol', 'percentage_expenditure', 'HepB', 'measles', 'BMI',\n",
    "       'u5_deaths', 'Polio', 'total_expenditure', 'DPT', 'HIV_AIDS', 'GDP',\n",
    "       'population', 'thinness_10_19', 'thinness_5_9', 'HDI', 'school_year']),\n",
    "    (\"categoric\",cat_pipe(encoder='onehot'), ['country','status'])\n",
    "])\n",
    "\n",
    "pipeline = Pipeline([\n",
    "    (\"prep\", preprocesor),\n",
    "    (\"algo\", XGBRegressor(n_jobs=-1, random_state=42))\n",
    "])\n",
    "\n",
    "#Tuning\n",
    "model = BayesSearchCV(pipeline, bsp.xgb_params, cv=3, n_iter=5, n_jobs=-1, verbose=1, random_state=42)\n",
    "model.fit(X_train, y_train)\n",
    "\n",
    "print(model.best_params_)\n",
    "print(model.score(X_train, y_train),  model.score(X_test, y_test), model.best_score_)"
   ]
  },
  {
   "cell_type": "markdown",
   "id": "5e93ba34-a45e-421a-adcd-e88ec5f57954",
   "metadata": {},
   "source": [
    "sayang nya eror di sklearn terbaru"
   ]
  },
  {
   "cell_type": "code",
   "execution_count": null,
   "id": "a25b2929-74bb-4259-a52c-c477f56b4df1",
   "metadata": {},
   "outputs": [],
   "source": []
  }
 ],
 "metadata": {
  "kernelspec": {
   "display_name": "Python 3 (ipykernel)",
   "language": "python",
   "name": "python3"
  },
  "language_info": {
   "codemirror_mode": {
    "name": "ipython",
    "version": 3
   },
   "file_extension": ".py",
   "mimetype": "text/x-python",
   "name": "python",
   "nbconvert_exporter": "python",
   "pygments_lexer": "ipython3",
   "version": "3.8.8"
  }
 },
 "nbformat": 4,
 "nbformat_minor": 5
}
