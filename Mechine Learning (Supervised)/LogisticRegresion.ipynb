{
 "cells": [
  {
   "cell_type": "markdown",
   "id": "3ff4829a-e635-4d21-8d4c-134fd506fa4d",
   "metadata": {},
   "source": [
    "# **Logistic Regresion**"
   ]
  },
  {
   "cell_type": "code",
   "execution_count": 1,
   "id": "9b17434c-4708-430b-9cfb-721e4fcacdcb",
   "metadata": {},
   "outputs": [],
   "source": [
    "import pandas as pd\n",
    "import numpy as np\n",
    "import seaborn as sns\n",
    "import matplotlib.pyplot as plt\n",
    "\n",
    "from sklearn.model_selection import train_test_split\n",
    "from sklearn.pipeline import Pipeline\n",
    "from sklearn.compose import ColumnTransformer\n",
    "\n",
    "from jcopml.pipeline import num_pipe, cat_pipe\n",
    "from jcopml.utils import save_model, load_model\n",
    "from jcopml.plot import plot_missing_value"
   ]
  },
  {
   "cell_type": "code",
   "execution_count": 2,
   "id": "f541f5b0-051c-4ab4-9cbf-4f61e8ec1f9c",
   "metadata": {},
   "outputs": [
    {
     "data": {
      "text/html": [
       "<div>\n",
       "<style scoped>\n",
       "    .dataframe tbody tr th:only-of-type {\n",
       "        vertical-align: middle;\n",
       "    }\n",
       "\n",
       "    .dataframe tbody tr th {\n",
       "        vertical-align: top;\n",
       "    }\n",
       "\n",
       "    .dataframe thead th {\n",
       "        text-align: right;\n",
       "    }\n",
       "</style>\n",
       "<table border=\"1\" class=\"dataframe\">\n",
       "  <thead>\n",
       "    <tr style=\"text-align: right;\">\n",
       "      <th></th>\n",
       "      <th>SepalLengthCm</th>\n",
       "      <th>SepalWidthCm</th>\n",
       "      <th>PetalLengthCm</th>\n",
       "      <th>PetalWidthCm</th>\n",
       "      <th>Species</th>\n",
       "    </tr>\n",
       "    <tr>\n",
       "      <th>Id</th>\n",
       "      <th></th>\n",
       "      <th></th>\n",
       "      <th></th>\n",
       "      <th></th>\n",
       "      <th></th>\n",
       "    </tr>\n",
       "  </thead>\n",
       "  <tbody>\n",
       "    <tr>\n",
       "      <th>1</th>\n",
       "      <td>5.1</td>\n",
       "      <td>3.5</td>\n",
       "      <td>1.4</td>\n",
       "      <td>0.2</td>\n",
       "      <td>Iris-setosa</td>\n",
       "    </tr>\n",
       "    <tr>\n",
       "      <th>2</th>\n",
       "      <td>4.9</td>\n",
       "      <td>3.0</td>\n",
       "      <td>1.4</td>\n",
       "      <td>0.2</td>\n",
       "      <td>Iris-setosa</td>\n",
       "    </tr>\n",
       "    <tr>\n",
       "      <th>3</th>\n",
       "      <td>4.7</td>\n",
       "      <td>3.2</td>\n",
       "      <td>1.3</td>\n",
       "      <td>0.2</td>\n",
       "      <td>Iris-setosa</td>\n",
       "    </tr>\n",
       "    <tr>\n",
       "      <th>4</th>\n",
       "      <td>4.6</td>\n",
       "      <td>3.1</td>\n",
       "      <td>1.5</td>\n",
       "      <td>0.2</td>\n",
       "      <td>Iris-setosa</td>\n",
       "    </tr>\n",
       "    <tr>\n",
       "      <th>5</th>\n",
       "      <td>5.0</td>\n",
       "      <td>3.6</td>\n",
       "      <td>1.4</td>\n",
       "      <td>0.2</td>\n",
       "      <td>Iris-setosa</td>\n",
       "    </tr>\n",
       "  </tbody>\n",
       "</table>\n",
       "</div>"
      ],
      "text/plain": [
       "    SepalLengthCm  SepalWidthCm  PetalLengthCm  PetalWidthCm      Species\n",
       "Id                                                                       \n",
       "1             5.1           3.5            1.4           0.2  Iris-setosa\n",
       "2             4.9           3.0            1.4           0.2  Iris-setosa\n",
       "3             4.7           3.2            1.3           0.2  Iris-setosa\n",
       "4             4.6           3.1            1.5           0.2  Iris-setosa\n",
       "5             5.0           3.6            1.4           0.2  Iris-setosa"
      ]
     },
     "execution_count": 2,
     "metadata": {},
     "output_type": "execute_result"
    }
   ],
   "source": [
    "df = pd.read_csv(\"../data/iris.csv\", index_col=\"Id\")\n",
    "df.head()"
   ]
  },
  {
   "cell_type": "code",
   "execution_count": 3,
   "id": "397598df-0168-4a5e-86ce-e252cd02f72c",
   "metadata": {},
   "outputs": [
    {
     "data": {
      "image/png": "[encoded data removed]",
      "text/plain": [
       "<Figure size 1080x576 with 1 Axes>"
      ]
     },
     "metadata": {
      "needs_background": "light"
     },
     "output_type": "display_data"
    }
   ],
   "source": [
    "plot_missing_value(df)"
   ]
  },
  {
   "cell_type": "markdown",
   "id": "7f5690aa-e5ad-4811-b70c-0fff6e480969",
   "metadata": {},
   "source": [
    "**Data Balance**"
   ]
  },
  {
   "cell_type": "code",
   "execution_count": 4,
   "id": "7e2766e9-123b-4d81-a9d2-4d71132d20ad",
   "metadata": {},
   "outputs": [
    {
     "data": {
      "text/plain": [
       "Iris-setosa        50\n",
       "Iris-versicolor    50\n",
       "Iris-virginica     50\n",
       "Name: Species, dtype: int64"
      ]
     },
     "execution_count": 4,
     "metadata": {},
     "output_type": "execute_result"
    }
   ],
   "source": [
    "df[\"Species\"].value_counts()"
   ]
  },
  {
   "cell_type": "code",
   "execution_count": 5,
   "id": "36ea0f6e-faea-4ab5-a08a-0f375dbfc6a6",
   "metadata": {},
   "outputs": [
    {
     "name": "stderr",
     "output_type": "stream",
     "text": [
      "/home/rizki/anaconda3/lib/python3.8/site-packages/seaborn/_decorators.py:36: FutureWarning: Pass the following variables as keyword args: x, y, hue. From version 0.12, the only valid positional argument will be `data`, and passing other arguments without an explicit keyword will result in an error or misinterpretation.\n",
      "  warnings.warn(\n",
      "/home/rizki/anaconda3/lib/python3.8/site-packages/seaborn/_decorators.py:36: FutureWarning: Pass the following variables as keyword args: x, y, hue. From version 0.12, the only valid positional argument will be `data`, and passing other arguments without an explicit keyword will result in an error or misinterpretation.\n",
      "  warnings.warn(\n"
     ]
    },
    {
     "data": {
      "text/plain": [
       "<AxesSubplot:xlabel='PetalLengthCm', ylabel='PetalWidthCm'>"
      ]
     },
     "execution_count": 5,
     "metadata": {},
     "output_type": "execute_result"
    },
    {
     "data": {
      "image/png": "[encoded data removed]",
      "text/plain": [
       "<Figure size 1080x432 with 2 Axes>"
      ]
     },
     "metadata": {
      "needs_background": "light"
     },
     "output_type": "display_data"
    }
   ],
   "source": [
    "plt.figure(figsize=(15,6))\n",
    "\n",
    "plt.subplot(1,2,1)\n",
    "sns.scatterplot(\"SepalLengthCm\",\"SepalWidthCm\",\"Species\",data=df)\n",
    "\n",
    "plt.subplot(1,2,2)\n",
    "sns.scatterplot(\"PetalLengthCm\",\"PetalWidthCm\",\"Species\",data=df)"
   ]
  },
  {
   "cell_type": "markdown",
   "id": "797471df-5aa1-4525-baea-2d24052d5c0a",
   "metadata": {},
   "source": [
    "## **Split Data**"
   ]
  },
  {
   "cell_type": "code",
   "execution_count": 6,
   "id": "d13e3e4b-889a-4d11-adda-6b9c9e187e46",
   "metadata": {},
   "outputs": [
    {
     "data": {
      "text/plain": [
       "((120, 4), (30, 4), (120,), (30,))"
      ]
     },
     "execution_count": 6,
     "metadata": {},
     "output_type": "execute_result"
    }
   ],
   "source": [
    "X = df.drop(columns=[\"Species\"])\n",
    "y = df[\"Species\"]\n",
    "\n",
    "#stratify suffle split\n",
    "X_train, X_test, y_train, y_test = train_test_split(X, y, stratify=y, test_size=0.2, random_state=42)\n",
    "X_train.shape, X_test.shape, y_train.shape, y_test.shape"
   ]
  },
  {
   "cell_type": "markdown",
   "id": "6b09897c-bf44-4dd8-94ef-0990b36af439",
   "metadata": {},
   "source": [
    "## **Training**"
   ]
  },
  {
   "cell_type": "code",
   "execution_count": 7,
   "id": "be351872-3c93-45e1-bf09-46f6f248ef22",
   "metadata": {},
   "outputs": [],
   "source": [
    "from sklearn.linear_model import LogisticRegression\n",
    "from jcopml.tuning import grid_search_params as gsp\n",
    "from sklearn.model_selection import GridSearchCV"
   ]
  },
  {
   "cell_type": "code",
   "execution_count": 8,
   "id": "1634fa33-891f-4a9c-9bfe-835a03b98b0d",
   "metadata": {},
   "outputs": [
    {
     "data": {
      "text/plain": [
       "{'algo__fit_intercept': [True, False],\n",
       " 'algo__C': array([1.e-03, 1.e-02, 1.e-01, 1.e+00, 1.e+01, 1.e+02, 1.e+03])}"
      ]
     },
     "execution_count": 8,
     "metadata": {},
     "output_type": "execute_result"
    }
   ],
   "source": [
    "gsp.logreg_params"
   ]
  },
  {
   "cell_type": "markdown",
   "id": "47f70b5f-846d-4436-b170-993bc74adb2d",
   "metadata": {},
   "source": [
    "fit_intercept ingin mempertimbangkan ax + b <br>\n",
    "C = regulalizaion"
   ]
  },
  {
   "cell_type": "markdown",
   "id": "05fbc7eb-7193-44af-9fed-242d8267be08",
   "metadata": {},
   "source": [
    "## **ONE VS ALL / ONE VS REST**"
   ]
  },
  {
   "cell_type": "code",
   "execution_count": 13,
   "id": "5952a427-bba6-4f8b-a0a9-f62148697c47",
   "metadata": {},
   "outputs": [
    {
     "name": "stdout",
     "output_type": "stream",
     "text": [
      "Fitting 3 folds for each of 14 candidates, totalling 42 fits\n",
      "{'algo__C': 1000.0, 'algo__fit_intercept': False}\n",
      "0.9583333333333334 0.9666666666666667 0.9500000000000001\n"
     ]
    }
   ],
   "source": [
    "preprocesor = ColumnTransformer([\n",
    "    (\"numeric\", num_pipe(), X_train.columns)\n",
    "])\n",
    "\n",
    "pipeline = Pipeline([\n",
    "    (\"prep\", preprocesor),\n",
    "    (\"algo\", LogisticRegression(multi_class='ovr',solver='lbfgs', n_jobs=-1, random_state=42))\n",
    "])\n",
    "\n",
    "#Tuning\n",
    "model = GridSearchCV(pipeline, gsp.logreg_params , cv=3, n_jobs=-1, verbose=1)\n",
    "model.fit(X_train, y_train)\n",
    "\n",
    "print(model.best_params_)\n",
    "print(model.score(X_train, y_train),  model.score(X_test, y_test), model.best_score_)"
   ]
  },
  {
   "cell_type": "markdown",
   "id": "3013eff9-a095-4408-81f7-369ade30bc3f",
   "metadata": {},
   "source": [
    "## **Multinominal**"
   ]
  },
  {
   "cell_type": "code",
   "execution_count": 10,
   "id": "c52dc76d-56c6-4ca0-80d1-d598114d6d78",
   "metadata": {},
   "outputs": [
    {
     "name": "stdout",
     "output_type": "stream",
     "text": [
      "Fitting 3 folds for each of 14 candidates, totalling 42 fits\n",
      "{'algo__C': 10.0, 'algo__fit_intercept': True}\n",
      "0.975 1.0 0.9666666666666667\n"
     ]
    }
   ],
   "source": [
    "preprocesor = ColumnTransformer([\n",
    "    (\"numeric\", num_pipe(), X_train.columns)\n",
    "])\n",
    "\n",
    "pipeline = Pipeline([\n",
    "    (\"prep\", preprocesor),\n",
    "    (\"algo\", LogisticRegression(multi_class='multinomial', solver='lbfgs', n_jobs=-1, random_state=42))\n",
    "])\n",
    "\n",
    "#Tuning\n",
    "model = GridSearchCV(pipeline, gsp.logreg_params , cv=3, n_jobs=-1, verbose=1)\n",
    "model.fit(X_train, y_train)\n",
    "\n",
    "print(model.best_params_)\n",
    "print(model.score(X_train, y_train),  model.score(X_test, y_test), model.best_score_)"
   ]
  },
  {
   "cell_type": "code",
   "execution_count": 15,
   "id": "35d24827-35f4-4632-b25c-5dd78ee05790",
   "metadata": {
    "tags": []
   },
   "outputs": [
    {
     "data": {
      "text/html": [
       "<div>\n",
       "<style scoped>\n",
       "    .dataframe tbody tr th:only-of-type {\n",
       "        vertical-align: middle;\n",
       "    }\n",
       "\n",
       "    .dataframe tbody tr th {\n",
       "        vertical-align: top;\n",
       "    }\n",
       "\n",
       "    .dataframe thead th {\n",
       "        text-align: right;\n",
       "    }\n",
       "</style>\n",
       "<table border=\"1\" class=\"dataframe\">\n",
       "  <thead>\n",
       "    <tr style=\"text-align: right;\">\n",
       "      <th></th>\n",
       "      <th>Predict</th>\n",
       "    </tr>\n",
       "  </thead>\n",
       "  <tbody>\n",
       "    <tr>\n",
       "      <th>0</th>\n",
       "      <td>Iris-setosa</td>\n",
       "    </tr>\n",
       "    <tr>\n",
       "      <th>1</th>\n",
       "      <td>Iris-virginica</td>\n",
       "    </tr>\n",
       "    <tr>\n",
       "      <th>2</th>\n",
       "      <td>Iris-versicolor</td>\n",
       "    </tr>\n",
       "    <tr>\n",
       "      <th>3</th>\n",
       "      <td>Iris-setosa</td>\n",
       "    </tr>\n",
       "    <tr>\n",
       "      <th>4</th>\n",
       "      <td>Iris-versicolor</td>\n",
       "    </tr>\n",
       "    <tr>\n",
       "      <th>...</th>\n",
       "      <td>...</td>\n",
       "    </tr>\n",
       "    <tr>\n",
       "      <th>115</th>\n",
       "      <td>Iris-setosa</td>\n",
       "    </tr>\n",
       "    <tr>\n",
       "      <th>116</th>\n",
       "      <td>Iris-setosa</td>\n",
       "    </tr>\n",
       "    <tr>\n",
       "      <th>117</th>\n",
       "      <td>Iris-setosa</td>\n",
       "    </tr>\n",
       "    <tr>\n",
       "      <th>118</th>\n",
       "      <td>Iris-versicolor</td>\n",
       "    </tr>\n",
       "    <tr>\n",
       "      <th>119</th>\n",
       "      <td>Iris-setosa</td>\n",
       "    </tr>\n",
       "  </tbody>\n",
       "</table>\n",
       "<p>120 rows × 1 columns</p>\n",
       "</div>"
      ],
      "text/plain": [
       "             Predict\n",
       "0        Iris-setosa\n",
       "1     Iris-virginica\n",
       "2    Iris-versicolor\n",
       "3        Iris-setosa\n",
       "4    Iris-versicolor\n",
       "..               ...\n",
       "115      Iris-setosa\n",
       "116      Iris-setosa\n",
       "117      Iris-setosa\n",
       "118  Iris-versicolor\n",
       "119      Iris-setosa\n",
       "\n",
       "[120 rows x 1 columns]"
      ]
     },
     "execution_count": 15,
     "metadata": {},
     "output_type": "execute_result"
    }
   ],
   "source": [
    "Series = pd.Series(model.predict(X_train),name=\"Predict\")\n",
    "Series.to_frame()"
   ]
  },
  {
   "cell_type": "markdown",
   "id": "077f5f11-e553-479e-8b0e-dc5daa2da9cb",
   "metadata": {},
   "source": [
    "# **Rangkuman Matriks**"
   ]
  },
  {
   "cell_type": "markdown",
   "id": "150f35d9-37b7-425c-b77b-6c576571a037",
   "metadata": {},
   "source": [
    "1) Data balance pakai acurasi (Pakai PR atau ROC sama aja)\n",
    "2) Data Imabalance (Positve sample > 95%) pakai F1 Score atau redfine label negatif agar lebih banyak\n",
    "3) Data Imbalance (Positve sample < 5%) pakai PR_AUC"
   ]
  },
  {
   "cell_type": "markdown",
   "id": "b5b27354-89a9-4f3a-b160-e9119fd6a81d",
   "metadata": {},
   "source": [
    "# **Evaluation Clasification**"
   ]
  },
  {
   "cell_type": "markdown",
   "id": "58cf8815-9fbe-490f-94ff-e4094db7d92e",
   "metadata": {},
   "source": [
    "1) Plot clasification report\n",
    "2) Confusion Matriks kalau di regresi actual vs predict\n",
    "3) ROC\n",
    "4) PR"
   ]
  },
  {
   "cell_type": "markdown",
   "id": "8811d72e-4dd7-4592-ba86-6db82b10f927",
   "metadata": {},
   "source": [
    "# **Tambahan Dikit**\n",
    " - Transform pada pipe (you Jhonson untuk data skew negatif dan positif) (skew Box Cox Data yang Positif)"
   ]
  }
 ],
 "metadata": {
  "kernelspec": {
   "display_name": "Python 3 (ipykernel)",
   "language": "python",
   "name": "python3"
  },
  "language_info": {
   "codemirror_mode": {
    "name": "ipython",
    "version": 3
   },
   "file_extension": ".py",
   "mimetype": "text/x-python",
   "name": "python",
   "nbconvert_exporter": "python",
   "pygments_lexer": "ipython3",
   "version": "3.8.8"
  }
 },
 "nbformat": 4,
 "nbformat_minor": 5
}
