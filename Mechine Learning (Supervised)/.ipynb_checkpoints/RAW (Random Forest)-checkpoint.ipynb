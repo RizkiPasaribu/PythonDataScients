{
 "cells": [
  {
   "cell_type": "markdown",
   "id": "60f8cc79-504b-448a-aff9-c8cb8c9dae50",
   "metadata": {},
   "source": [
    "# **Random Forest Algortm**"
   ]
  },
  {
   "cell_type": "code",
   "execution_count": 1,
   "id": "3712d1b4-6720-474f-8fc7-42fe5a1eaf55",
   "metadata": {},
   "outputs": [],
   "source": [
    "import pandas as pd\n",
    "import numpy as np\n",
    "\n",
    "from sklearn.model_selection import train_test_split\n",
    "from sklearn.pipeline import Pipeline\n",
    "from sklearn.compose import ColumnTransformer\n",
    "\n",
    "from jcopml.pipeline import num_pipe, cat_pipe\n",
    "from jcopml.utils import save_model, load_model\n",
    "from jcopml.plot import plot_missing_value\n",
    "\n",
    "#Traning\n",
    "from sklearn.ensemble import RandomForestRegressor\n",
    "from sklearn.model_selection import GridSearchCV\n",
    "from jcopml.tuning import grid_search_params as gsp"
   ]
  },
  {
   "cell_type": "markdown",
   "id": "a9250197-9733-4124-bbb9-05ee01695859",
   "metadata": {},
   "source": [
    "## Import Data"
   ]
  },
  {
   "cell_type": "code",
   "execution_count": 2,
   "id": "4f03c5a8-8203-41b1-bf19-546a0f0a92c7",
   "metadata": {},
   "outputs": [
    {
     "data": {
      "text/html": [
       "<div>\n",
       "<style scoped>\n",
       "    .dataframe tbody tr th:only-of-type {\n",
       "        vertical-align: middle;\n",
       "    }\n",
       "\n",
       "    .dataframe tbody tr th {\n",
       "        vertical-align: top;\n",
       "    }\n",
       "\n",
       "    .dataframe thead th {\n",
       "        text-align: right;\n",
       "    }\n",
       "</style>\n",
       "<table border=\"1\" class=\"dataframe\">\n",
       "  <thead>\n",
       "    <tr style=\"text-align: right;\">\n",
       "      <th></th>\n",
       "      <th>crim</th>\n",
       "      <th>zn</th>\n",
       "      <th>indus</th>\n",
       "      <th>chas</th>\n",
       "      <th>nox</th>\n",
       "      <th>rm</th>\n",
       "      <th>age</th>\n",
       "      <th>dis</th>\n",
       "      <th>rad</th>\n",
       "      <th>tax</th>\n",
       "      <th>ptratio</th>\n",
       "      <th>black</th>\n",
       "      <th>lstat</th>\n",
       "      <th>medv</th>\n",
       "    </tr>\n",
       "    <tr>\n",
       "      <th>ID</th>\n",
       "      <th></th>\n",
       "      <th></th>\n",
       "      <th></th>\n",
       "      <th></th>\n",
       "      <th></th>\n",
       "      <th></th>\n",
       "      <th></th>\n",
       "      <th></th>\n",
       "      <th></th>\n",
       "      <th></th>\n",
       "      <th></th>\n",
       "      <th></th>\n",
       "      <th></th>\n",
       "      <th></th>\n",
       "    </tr>\n",
       "  </thead>\n",
       "  <tbody>\n",
       "    <tr>\n",
       "      <th>1</th>\n",
       "      <td>0.00632</td>\n",
       "      <td>18.0</td>\n",
       "      <td>2.31</td>\n",
       "      <td>0</td>\n",
       "      <td>0.538</td>\n",
       "      <td>6.575</td>\n",
       "      <td>65.2</td>\n",
       "      <td>4.0900</td>\n",
       "      <td>1</td>\n",
       "      <td>296</td>\n",
       "      <td>15.3</td>\n",
       "      <td>396.90</td>\n",
       "      <td>4.98</td>\n",
       "      <td>24.0</td>\n",
       "    </tr>\n",
       "    <tr>\n",
       "      <th>2</th>\n",
       "      <td>0.02731</td>\n",
       "      <td>0.0</td>\n",
       "      <td>7.07</td>\n",
       "      <td>0</td>\n",
       "      <td>0.469</td>\n",
       "      <td>6.421</td>\n",
       "      <td>78.9</td>\n",
       "      <td>4.9671</td>\n",
       "      <td>2</td>\n",
       "      <td>242</td>\n",
       "      <td>17.8</td>\n",
       "      <td>396.90</td>\n",
       "      <td>9.14</td>\n",
       "      <td>21.6</td>\n",
       "    </tr>\n",
       "    <tr>\n",
       "      <th>4</th>\n",
       "      <td>0.03237</td>\n",
       "      <td>0.0</td>\n",
       "      <td>2.18</td>\n",
       "      <td>0</td>\n",
       "      <td>0.458</td>\n",
       "      <td>6.998</td>\n",
       "      <td>45.8</td>\n",
       "      <td>6.0622</td>\n",
       "      <td>3</td>\n",
       "      <td>222</td>\n",
       "      <td>18.7</td>\n",
       "      <td>394.63</td>\n",
       "      <td>2.94</td>\n",
       "      <td>33.4</td>\n",
       "    </tr>\n",
       "    <tr>\n",
       "      <th>5</th>\n",
       "      <td>0.06905</td>\n",
       "      <td>0.0</td>\n",
       "      <td>2.18</td>\n",
       "      <td>0</td>\n",
       "      <td>0.458</td>\n",
       "      <td>7.147</td>\n",
       "      <td>54.2</td>\n",
       "      <td>6.0622</td>\n",
       "      <td>3</td>\n",
       "      <td>222</td>\n",
       "      <td>18.7</td>\n",
       "      <td>396.90</td>\n",
       "      <td>5.33</td>\n",
       "      <td>36.2</td>\n",
       "    </tr>\n",
       "    <tr>\n",
       "      <th>7</th>\n",
       "      <td>0.08829</td>\n",
       "      <td>12.5</td>\n",
       "      <td>7.87</td>\n",
       "      <td>0</td>\n",
       "      <td>0.524</td>\n",
       "      <td>6.012</td>\n",
       "      <td>66.6</td>\n",
       "      <td>5.5605</td>\n",
       "      <td>5</td>\n",
       "      <td>311</td>\n",
       "      <td>15.2</td>\n",
       "      <td>395.60</td>\n",
       "      <td>12.43</td>\n",
       "      <td>22.9</td>\n",
       "    </tr>\n",
       "  </tbody>\n",
       "</table>\n",
       "</div>"
      ],
      "text/plain": [
       "       crim    zn  indus  chas    nox     rm   age     dis  rad  tax  ptratio  \\\n",
       "ID                                                                              \n",
       "1   0.00632  18.0   2.31     0  0.538  6.575  65.2  4.0900    1  296     15.3   \n",
       "2   0.02731   0.0   7.07     0  0.469  6.421  78.9  4.9671    2  242     17.8   \n",
       "4   0.03237   0.0   2.18     0  0.458  6.998  45.8  6.0622    3  222     18.7   \n",
       "5   0.06905   0.0   2.18     0  0.458  7.147  54.2  6.0622    3  222     18.7   \n",
       "7   0.08829  12.5   7.87     0  0.524  6.012  66.6  5.5605    5  311     15.2   \n",
       "\n",
       "     black  lstat  medv  \n",
       "ID                       \n",
       "1   396.90   4.98  24.0  \n",
       "2   396.90   9.14  21.6  \n",
       "4   394.63   2.94  33.4  \n",
       "5   396.90   5.33  36.2  \n",
       "7   395.60  12.43  22.9  "
      ]
     },
     "execution_count": 2,
     "metadata": {},
     "output_type": "execute_result"
    }
   ],
   "source": [
    "df = pd.read_csv(\"../data/house_price.csv\", index_col=\"ID\")\n",
    "df.head()"
   ]
  },
  {
   "cell_type": "code",
   "execution_count": 3,
   "id": "056bb97e-39c3-4234-a351-a9770e1e73b1",
   "metadata": {},
   "outputs": [
    {
     "data": {
      "image/png": "[encoded data removed]",
      "text/plain": [
       "<Figure size 1080x576 with 1 Axes>"
      ]
     },
     "metadata": {
      "needs_background": "light"
     },
     "output_type": "display_data"
    }
   ],
   "source": [
    "plot_missing_value(df)"
   ]
  },
  {
   "cell_type": "markdown",
   "id": "481a1174-09e8-4c53-ae50-4dc9af03ff7d",
   "metadata": {},
   "source": [
    "## Split Data"
   ]
  },
  {
   "cell_type": "code",
   "execution_count": 4,
   "id": "57747a88-88ef-4364-b9a1-d16882ebe447",
   "metadata": {},
   "outputs": [
    {
     "data": {
      "text/plain": [
       "((266, 13), (67, 13), (266,), (67,))"
      ]
     },
     "execution_count": 4,
     "metadata": {},
     "output_type": "execute_result"
    }
   ],
   "source": [
    "X = df.drop(columns=[\"medv\"])\n",
    "y = df[\"medv\"]\n",
    "\n",
    "#karna kita prediksi regresi bukan clasifikasi maka data splitnya suffle split\n",
    "X_train, X_test, y_train, y_test = train_test_split(X, y, test_size=0.2, random_state=42)\n",
    "X_train.shape, X_test.shape, y_train.shape, y_test.shape"
   ]
  },
  {
   "cell_type": "markdown",
   "id": "e90de3dd-c241-4385-a034-57e07feb3a03",
   "metadata": {},
   "source": [
    "## Traning"
   ]
  },
  {
   "cell_type": "code",
   "execution_count": 5,
   "id": "077b7b63-4551-4ca7-aed1-e438bd4f8108",
   "metadata": {},
   "outputs": [
    {
     "data": {
      "text/plain": [
       "Index(['crim', 'zn', 'indus', 'chas', 'nox', 'rm', 'age', 'dis', 'rad', 'tax',\n",
       "       'ptratio', 'black', 'lstat'],\n",
       "      dtype='object')"
      ]
     },
     "execution_count": 5,
     "metadata": {},
     "output_type": "execute_result"
    }
   ],
   "source": [
    "X_train.columns"
   ]
  },
  {
   "cell_type": "code",
   "execution_count": 6,
   "id": "8ff63f8a-faa5-4faa-844c-cff15bd1e1e6",
   "metadata": {},
   "outputs": [
    {
     "data": {
      "text/plain": [
       "{'algo__n_estimators': [100, 150, 200],\n",
       " 'algo__max_depth': [20, 50, 80],\n",
       " 'algo__max_features': [0.3, 0.6, 0.8],\n",
       " 'algo__min_samples_leaf': [1, 5, 10]}"
      ]
     },
     "execution_count": 6,
     "metadata": {},
     "output_type": "execute_result"
    }
   ],
   "source": [
    "gsp.rf_params"
   ]
  },
  {
   "cell_type": "markdown",
   "id": "3d9a2af4-7150-426b-b579-a166c9951f28",
   "metadata": {},
   "source": [
    "- n estimator = berapa banyak pohon yang ingin dibuat\n",
    "- max depth brp banyak dicios yang mw di buat\n",
    "- max features brp banyak pembagian data terhadap target, karna realita data x terhadap y sangat banyak\n",
    "- berapa banyak batas daun/percabangan yang ingin di buat"
   ]
  },
  {
   "cell_type": "code",
   "execution_count": 7,
   "id": "73be1cad-cd2b-4131-b30e-78f7d903dd74",
   "metadata": {},
   "outputs": [
    {
     "name": "stdout",
     "output_type": "stream",
     "text": [
      "Fitting 3 folds for each of 81 candidates, totalling 243 fits\n",
      "{'algo__max_depth': 50, 'algo__max_features': 0.8, 'algo__min_samples_leaf': 1, 'algo__n_estimators': 200}\n",
      "0.9796825791444227 0.9131952055120968 0.8423714770450016\n"
     ]
    }
   ],
   "source": [
    "preprocesor = ColumnTransformer([\n",
    "    (\"numeric\", num_pipe(),['crim', 'zn', 'indus', 'nox', 'rm', 'age', 'dis', \n",
    "                            'rad', 'tax', 'ptratio', 'black', 'lstat']),\n",
    "    (\"categoric\",cat_pipe(), ['chas'])\n",
    "])\n",
    "\n",
    "pipeline = Pipeline([\n",
    "    (\"prep\", preprocesor),\n",
    "    (\"algo\", RandomForestRegressor(n_jobs=-1, random_state=42))\n",
    "])\n",
    "\n",
    "#Tuning\n",
    "model = GridSearchCV(pipeline, gsp.rf_params, cv=3, n_jobs=-1, verbose=1)\n",
    "model.fit(X_train, y_train)\n",
    "\n",
    "print(model.best_params_)\n",
    "print(model.score(X_train, y_train),  model.score(X_test, y_test), model.best_score_)"
   ]
  },
  {
   "cell_type": "markdown",
   "id": "fb3abab3-b667-413e-a449-80daa5af7fae",
   "metadata": {},
   "source": [
    "## Scaling bisa membantu SVM Dan KNN tetapi RAW Tidak"
   ]
  },
  {
   "cell_type": "markdown",
   "id": "7a3e0793-ceb3-4866-af84-e3617b78c05c",
   "metadata": {},
   "source": [
    "Karna Scaling tidak mempengaruhi algoritma berbasis pohon. tapi RF bisa melakukan feature Importance"
   ]
  },
  {
   "cell_type": "markdown",
   "id": "e2c78820-3cbc-4500-8566-76e7b5511ca0",
   "metadata": {},
   "source": [
    "## Feature Importance\n",
    "\n",
    "### **Mean Loss Decrease**\n",
    "Kita akan melihat rata rata pengurangan eoror(loss) yang di kontribusikan oleh tiap fitur<br>\n",
    "Untuk kasus klasifikasi, loss yang dipakai adalah```gini Impurity```,jadi sering disebut juga ```mean Impurity decrease```<br>\n",
    "Untuk kasus regresi, loss yang dipakai adalah MSE, mungkin bisa disebut ```mean MSE decrease```? <br>\n",
    "boleh di cek tool tip dari random forest, loss yang di masukkan adalah ```criterion``` <br><br>\n",
    "```Semakin besar loss yang berhasil di turunkan oleh suatu fitur maka semakin penting fitur tersebut```"
   ]
  },
  {
   "cell_type": "code",
   "execution_count": 8,
   "id": "0d3af789-a4f9-4b22-a926-e47e59c666ae",
   "metadata": {},
   "outputs": [],
   "source": [
    "from jcopml.feature_importance import mean_loss_decrease"
   ]
  },
  {
   "cell_type": "code",
   "execution_count": 11,
   "id": "4acf943a-e927-4b20-8011-b2499102eab1",
   "metadata": {},
   "outputs": [
    {
     "data": {
      "image/png": "[encoded data removed]",
      "text/plain": [
       "<Figure size 1080x360 with 1 Axes>"
      ]
     },
     "metadata": {
      "needs_background": "light"
     },
     "output_type": "display_data"
    }
   ],
   "source": [
    "df_imp = mean_loss_decrease(X_train, model, plot=True, topk=10)"
   ]
  },
  {
   "cell_type": "markdown",
   "id": "cdd23873-eda7-4447-a7ef-69b3cbc820c5",
   "metadata": {},
   "source": [
    "### **Mean Score Decrease** \n",
    "model agnostik(moel apapun bisa baik tree atau pun svm) <br>\n",
    "```Kita acak beberapa variabel dan liat beberapa pengurangan score yang terjadi. Semakin besar penurunan score artinya fitur semakin penting ```"
   ]
  },
  {
   "cell_type": "code",
   "execution_count": 12,
   "id": "c2cfdd99-2bbf-40ff-809d-48c27d2a6850",
   "metadata": {},
   "outputs": [],
   "source": [
    "from jcopml.feature_importance import mean_score_decrease"
   ]
  },
  {
   "cell_type": "code",
   "execution_count": 13,
   "id": "af641bea-1ad5-4e3f-9d10-abeb0498c50e",
   "metadata": {},
   "outputs": [
    {
     "data": {
      "image/png": "[encoded data removed]",
      "text/plain": [
       "<Figure size 1080x360 with 1 Axes>"
      ]
     },
     "metadata": {
      "needs_background": "light"
     },
     "output_type": "display_data"
    }
   ],
   "source": [
    "df_imp = mean_score_decrease(X_train, y_train, model, plot=True, topk=10)"
   ]
  },
  {
   "cell_type": "code",
   "execution_count": null,
   "id": "926f1f45-96d6-4fce-b191-9993db643594",
   "metadata": {},
   "outputs": [],
   "source": []
  }
 ],
 "metadata": {
  "kernelspec": {
   "display_name": "Python 3 (ipykernel)",
   "language": "python",
   "name": "python3"
  },
  "language_info": {
   "codemirror_mode": {
    "name": "ipython",
    "version": 3
   },
   "file_extension": ".py",
   "mimetype": "text/x-python",
   "name": "python",
   "nbconvert_exporter": "python",
   "pygments_lexer": "ipython3",
   "version": "3.8.8"
  }
 },
 "nbformat": 4,
 "nbformat_minor": 5
}
