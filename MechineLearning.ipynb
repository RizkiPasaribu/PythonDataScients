{
 "cells": [
  {
   "cell_type": "markdown",
   "id": "a78dd3d4-4426-4ab9-b8cf-00c3c3565c33",
   "metadata": {},
   "source": [
    "# 1 Mechine Learning"
   ]
  },
  {
   "cell_type": "code",
   "execution_count": 1,
   "id": "ab10c5a4-ee6f-4c62-9b54-e86002163589",
   "metadata": {},
   "outputs": [],
   "source": [
    "import pandas as pd\n",
    "\n",
    "from sklearn.model_selection import train_test_split"
   ]
  },
  {
   "cell_type": "code",
   "execution_count": 2,
   "id": "850a84f8-c47b-4957-9e7b-123bf0e5bf80",
   "metadata": {},
   "outputs": [],
   "source": [
    "df = pd.read_csv(\"data/titanic.csv\", index_col=\"PassengerId\")\n",
    "df.drop(columns=[\"Name\",\"Ticket\",\"Age\",\"Cabin\"],inplace=True)"
   ]
  },
  {
   "cell_type": "code",
   "execution_count": 26,
   "id": "0e9783d8-3505-4d4b-9450-72e1e41697ff",
   "metadata": {},
   "outputs": [
    {
     "data": {
      "text/plain": [
       "((712, 6), (179, 6), (712,), (179,))"
      ]
     },
     "execution_count": 26,
     "metadata": {},
     "output_type": "execute_result"
    }
   ],
   "source": [
    "# X = input dan y = Target\n",
    "\n",
    "X = df.drop(columns=[\"Survived\"])\n",
    "y = df[\"Survived\"]\n",
    "\n",
    "#split data                  \n",
    "#stratify berguna untuk mengklasifikasikan berdasarkan label survive dan not survive\n",
    "X_train, X_test, y_train, y_test = train_test_split(X, y, test_size=0.2, stratify=y, random_state=42)\n",
    "X_train.shape, X_test.shape, y_train.shape, y_test.shape"
   ]
  },
  {
   "cell_type": "markdown",
   "id": "590f0771-59a2-4604-ae4d-ff67e73e6012",
   "metadata": {},
   "source": [
    "## Prepocessor Menggunakan Pipe line Agar data tidak bocor / data leakage"
   ]
  },
  {
   "cell_type": "code",
   "execution_count": 4,
   "id": "e4a31f4f-7099-4277-8e0e-9db0306d1f08",
   "metadata": {},
   "outputs": [],
   "source": [
    "from sklearn.pipeline import Pipeline\n",
    "from sklearn.impute import SimpleImputer\n",
    "from sklearn.preprocessing import MinMaxScaler, OneHotEncoder"
   ]
  },
  {
   "cell_type": "code",
   "execution_count": 5,
   "id": "aa56e524-8059-4712-891b-a84c6e595836",
   "metadata": {},
   "outputs": [],
   "source": [
    "numerical_pipeline = Pipeline([\n",
    "    #nama steps \n",
    "    (\"imputer\", SimpleImputer(strategy=\"mean\")),\n",
    "    (\"scaler\", MinMaxScaler())\n",
    "])\n",
    "\n",
    "categorical_pipeline = Pipeline([ \n",
    "    (\"imputer\", SimpleImputer(strategy=\"most_frequent\")),\n",
    "    #encode\n",
    "    (\"onehot\", OneHotEncoder())\n",
    "])"
   ]
  },
  {
   "cell_type": "code",
   "execution_count": 7,
   "id": "f8995a79-5873-412c-8c2d-799a51f9974f",
   "metadata": {},
   "outputs": [
    {
     "data": {
      "text/html": [
       "<div>\n",
       "<style scoped>\n",
       "    .dataframe tbody tr th:only-of-type {\n",
       "        vertical-align: middle;\n",
       "    }\n",
       "\n",
       "    .dataframe tbody tr th {\n",
       "        vertical-align: top;\n",
       "    }\n",
       "\n",
       "    .dataframe thead th {\n",
       "        text-align: right;\n",
       "    }\n",
       "</style>\n",
       "<table border=\"1\" class=\"dataframe\">\n",
       "  <thead>\n",
       "    <tr style=\"text-align: right;\">\n",
       "      <th></th>\n",
       "      <th>Pclass</th>\n",
       "      <th>Sex</th>\n",
       "      <th>SibSp</th>\n",
       "      <th>Parch</th>\n",
       "      <th>Fare</th>\n",
       "      <th>Embarked</th>\n",
       "    </tr>\n",
       "    <tr>\n",
       "      <th>PassengerId</th>\n",
       "      <th></th>\n",
       "      <th></th>\n",
       "      <th></th>\n",
       "      <th></th>\n",
       "      <th></th>\n",
       "      <th></th>\n",
       "    </tr>\n",
       "  </thead>\n",
       "  <tbody>\n",
       "    <tr>\n",
       "      <th>693</th>\n",
       "      <td>3</td>\n",
       "      <td>male</td>\n",
       "      <td>0</td>\n",
       "      <td>0</td>\n",
       "      <td>56.4958</td>\n",
       "      <td>S</td>\n",
       "    </tr>\n",
       "    <tr>\n",
       "      <th>482</th>\n",
       "      <td>2</td>\n",
       "      <td>male</td>\n",
       "      <td>0</td>\n",
       "      <td>0</td>\n",
       "      <td>0.0000</td>\n",
       "      <td>S</td>\n",
       "    </tr>\n",
       "    <tr>\n",
       "      <th>528</th>\n",
       "      <td>1</td>\n",
       "      <td>male</td>\n",
       "      <td>0</td>\n",
       "      <td>0</td>\n",
       "      <td>221.7792</td>\n",
       "      <td>S</td>\n",
       "    </tr>\n",
       "    <tr>\n",
       "      <th>856</th>\n",
       "      <td>3</td>\n",
       "      <td>female</td>\n",
       "      <td>0</td>\n",
       "      <td>1</td>\n",
       "      <td>9.3500</td>\n",
       "      <td>S</td>\n",
       "    </tr>\n",
       "    <tr>\n",
       "      <th>802</th>\n",
       "      <td>2</td>\n",
       "      <td>female</td>\n",
       "      <td>1</td>\n",
       "      <td>1</td>\n",
       "      <td>26.2500</td>\n",
       "      <td>S</td>\n",
       "    </tr>\n",
       "  </tbody>\n",
       "</table>\n",
       "</div>"
      ],
      "text/plain": [
       "             Pclass     Sex  SibSp  Parch      Fare Embarked\n",
       "PassengerId                                                 \n",
       "693               3    male      0      0   56.4958        S\n",
       "482               2    male      0      0    0.0000        S\n",
       "528               1    male      0      0  221.7792        S\n",
       "856               3  female      0      1    9.3500        S\n",
       "802               2  female      1      1   26.2500        S"
      ]
     },
     "execution_count": 7,
     "metadata": {},
     "output_type": "execute_result"
    }
   ],
   "source": [
    "X_train.head()"
   ]
  },
  {
   "cell_type": "code",
   "execution_count": 15,
   "id": "20c9a954-d3f2-4638-b34b-04a97f0ec399",
   "metadata": {},
   "outputs": [],
   "source": [
    "#berguna untuk memfilter kolom mana yang masuk pipa numerik dan pipa kategori\n",
    "from sklearn.compose import ColumnTransformer\n",
    "preprocesor = ColumnTransformer([\n",
    "    (\"numeric\", numerical_pipeline, [\"SibSp\",\"Parch\",\"Fare\"]),\n",
    "    (\"categoric\",categorical_pipeline,[\"Pclass\",\"Sex\",\"Embarked\"])\n",
    "])"
   ]
  },
  {
   "cell_type": "markdown",
   "id": "7b2feb7f-c519-4d68-9e4b-c1a998a077b2",
   "metadata": {},
   "source": [
    "### Pipeline"
   ]
  },
  {
   "cell_type": "code",
   "execution_count": 16,
   "id": "4689a10c-3850-427e-92d0-ab5bd3d069e0",
   "metadata": {},
   "outputs": [
    {
     "data": {
      "text/plain": [
       "Pipeline(steps=[('prep',\n",
       "                 ColumnTransformer(transformers=[('numeric',\n",
       "                                                  Pipeline(steps=[('imputer',\n",
       "                                                                   SimpleImputer()),\n",
       "                                                                  ('scaler',\n",
       "                                                                   MinMaxScaler())]),\n",
       "                                                  ['SibSp', 'Parch', 'Fare']),\n",
       "                                                 ('categoric',\n",
       "                                                  Pipeline(steps=[('imputer',\n",
       "                                                                   SimpleImputer(strategy='most_frequent')),\n",
       "                                                                  ('onehot',\n",
       "                                                                   OneHotEncoder())]),\n",
       "                                                  ['Pclass', 'Sex',\n",
       "                                                   'Embarked'])])),\n",
       "                ('algo', KNeighborsClassifier())])"
      ]
     },
     "execution_count": 16,
     "metadata": {},
     "output_type": "execute_result"
    }
   ],
   "source": [
    "from sklearn.neighbors import KNeighborsClassifier\n",
    "\n",
    "pipeline = Pipeline([\n",
    "    (\"prep\", preprocesor),\n",
    "    (\"algo\",KNeighborsClassifier())\n",
    "])\n",
    "\n",
    "pipeline.fit(X_train, y_train)"
   ]
  },
  {
   "cell_type": "code",
   "execution_count": 17,
   "id": "e67cfd7c-276d-4ab7-a81c-30461aec932b",
   "metadata": {},
   "outputs": [
    {
     "data": {
      "text/plain": [
       "0.776536312849162"
      ]
     },
     "execution_count": 17,
     "metadata": {},
     "output_type": "execute_result"
    }
   ],
   "source": [
    "pipeline.score(X_test, y_test)"
   ]
  },
  {
   "cell_type": "markdown",
   "id": "0725caac-ba5c-475c-b5c3-ddf7dac916b7",
   "metadata": {},
   "source": [
    "# 2 Grid Search CV(Cross Validation) ---Final---"
   ]
  },
  {
   "cell_type": "code",
   "execution_count": 18,
   "id": "553df2dc-81a5-4ae3-ac35-289b1a6961bb",
   "metadata": {},
   "outputs": [
    {
     "name": "stdout",
     "output_type": "stream",
     "text": [
      "Fitting 3 folds for each of 100 candidates, totalling 300 fits\n"
     ]
    },
    {
     "data": {
      "text/plain": [
       "GridSearchCV(cv=3,\n",
       "             estimator=Pipeline(steps=[('prep',\n",
       "                                        ColumnTransformer(transformers=[('numeric',\n",
       "                                                                         Pipeline(steps=[('imputer',\n",
       "                                                                                          SimpleImputer()),\n",
       "                                                                                         ('scaler',\n",
       "                                                                                          MinMaxScaler())]),\n",
       "                                                                         ['SibSp',\n",
       "                                                                          'Parch',\n",
       "                                                                          'Fare']),\n",
       "                                                                        ('categoric',\n",
       "                                                                         Pipeline(steps=[('imputer',\n",
       "                                                                                          SimpleImputer(strategy='most_frequent')),\n",
       "                                                                                         ('onehot',\n",
       "                                                                                          OneHotEncoder())]),\n",
       "                                                                         ['Pclass',\n",
       "                                                                          'Sex',\n",
       "                                                                          'Embarked'])])),\n",
       "                                       ('algo', KNeighborsClassifier())]),\n",
       "             n_jobs=-1,\n",
       "             param_grid={'algo__n_neighbors': range(1, 51, 2),\n",
       "                         'algo__p': [1, 2],\n",
       "                         'algo__weights': ['uniform', 'distance']},\n",
       "             verbose=1)"
      ]
     },
     "execution_count": 18,
     "metadata": {},
     "output_type": "execute_result"
    }
   ],
   "source": [
    "from sklearn.model_selection import GridSearchCV\n",
    "\n",
    "#paremeter tuning\n",
    "parameter = {\n",
    "    #kenapa ada algo karna untuk memberi tahu n_neigborh punya nya pipeline KNeighborsClassifier()\n",
    "    \"algo__n_neighbors\":range(1,51,2),\n",
    "    \"algo__weights\":[\"uniform\",\"distance\"],\n",
    "    \"algo__p\":[1,2]\n",
    "}\n",
    "\n",
    "#biasany crosvalidation 3-5\n",
    "#n_jobs mw berapa banyak core cpu di pakai\n",
    "model = GridSearchCV(pipeline, parameter,cv=3,n_jobs=-1,verbose =1)\n",
    "model.fit(X_train, y_train)"
   ]
  },
  {
   "cell_type": "code",
   "execution_count": 19,
   "id": "d2ded8fd-a2ca-494a-a874-942b7bf16d0f",
   "metadata": {},
   "outputs": [
    {
     "data": {
      "text/html": [
       "<div>\n",
       "<style scoped>\n",
       "    .dataframe tbody tr th:only-of-type {\n",
       "        vertical-align: middle;\n",
       "    }\n",
       "\n",
       "    .dataframe tbody tr th {\n",
       "        vertical-align: top;\n",
       "    }\n",
       "\n",
       "    .dataframe thead th {\n",
       "        text-align: right;\n",
       "    }\n",
       "</style>\n",
       "<table border=\"1\" class=\"dataframe\">\n",
       "  <thead>\n",
       "    <tr style=\"text-align: right;\">\n",
       "      <th></th>\n",
       "      <th>mean_fit_time</th>\n",
       "      <th>std_fit_time</th>\n",
       "      <th>mean_score_time</th>\n",
       "      <th>std_score_time</th>\n",
       "      <th>param_algo__n_neighbors</th>\n",
       "      <th>param_algo__p</th>\n",
       "      <th>param_algo__weights</th>\n",
       "      <th>params</th>\n",
       "      <th>split0_test_score</th>\n",
       "      <th>split1_test_score</th>\n",
       "      <th>split2_test_score</th>\n",
       "      <th>mean_test_score</th>\n",
       "      <th>std_test_score</th>\n",
       "      <th>rank_test_score</th>\n",
       "    </tr>\n",
       "  </thead>\n",
       "  <tbody>\n",
       "    <tr>\n",
       "      <th>36</th>\n",
       "      <td>0.028880</td>\n",
       "      <td>0.003545</td>\n",
       "      <td>0.045320</td>\n",
       "      <td>0.015789</td>\n",
       "      <td>19</td>\n",
       "      <td>1</td>\n",
       "      <td>uniform</td>\n",
       "      <td>{'algo__n_neighbors': 19, 'algo__p': 1, 'algo_...</td>\n",
       "      <td>0.815126</td>\n",
       "      <td>0.818565</td>\n",
       "      <td>0.805907</td>\n",
       "      <td>0.813200</td>\n",
       "      <td>0.005344</td>\n",
       "      <td>1</td>\n",
       "    </tr>\n",
       "    <tr>\n",
       "      <th>28</th>\n",
       "      <td>0.030579</td>\n",
       "      <td>0.007441</td>\n",
       "      <td>0.045260</td>\n",
       "      <td>0.008817</td>\n",
       "      <td>15</td>\n",
       "      <td>1</td>\n",
       "      <td>uniform</td>\n",
       "      <td>{'algo__n_neighbors': 15, 'algo__p': 1, 'algo_...</td>\n",
       "      <td>0.815126</td>\n",
       "      <td>0.810127</td>\n",
       "      <td>0.810127</td>\n",
       "      <td>0.811793</td>\n",
       "      <td>0.002357</td>\n",
       "      <td>2</td>\n",
       "    </tr>\n",
       "    <tr>\n",
       "      <th>40</th>\n",
       "      <td>0.020781</td>\n",
       "      <td>0.001580</td>\n",
       "      <td>0.031566</td>\n",
       "      <td>0.000417</td>\n",
       "      <td>21</td>\n",
       "      <td>1</td>\n",
       "      <td>uniform</td>\n",
       "      <td>{'algo__n_neighbors': 21, 'algo__p': 1, 'algo_...</td>\n",
       "      <td>0.815126</td>\n",
       "      <td>0.818565</td>\n",
       "      <td>0.801688</td>\n",
       "      <td>0.811793</td>\n",
       "      <td>0.007282</td>\n",
       "      <td>2</td>\n",
       "    </tr>\n",
       "    <tr>\n",
       "      <th>54</th>\n",
       "      <td>0.035464</td>\n",
       "      <td>0.010580</td>\n",
       "      <td>0.047075</td>\n",
       "      <td>0.006995</td>\n",
       "      <td>27</td>\n",
       "      <td>2</td>\n",
       "      <td>uniform</td>\n",
       "      <td>{'algo__n_neighbors': 27, 'algo__p': 2, 'algo_...</td>\n",
       "      <td>0.815126</td>\n",
       "      <td>0.827004</td>\n",
       "      <td>0.793249</td>\n",
       "      <td>0.811793</td>\n",
       "      <td>0.013981</td>\n",
       "      <td>2</td>\n",
       "    </tr>\n",
       "    <tr>\n",
       "      <th>38</th>\n",
       "      <td>0.028823</td>\n",
       "      <td>0.008753</td>\n",
       "      <td>0.040950</td>\n",
       "      <td>0.007347</td>\n",
       "      <td>19</td>\n",
       "      <td>2</td>\n",
       "      <td>uniform</td>\n",
       "      <td>{'algo__n_neighbors': 19, 'algo__p': 2, 'algo_...</td>\n",
       "      <td>0.815126</td>\n",
       "      <td>0.814346</td>\n",
       "      <td>0.805907</td>\n",
       "      <td>0.811793</td>\n",
       "      <td>0.004174</td>\n",
       "      <td>2</td>\n",
       "    </tr>\n",
       "    <tr>\n",
       "      <th>...</th>\n",
       "      <td>...</td>\n",
       "      <td>...</td>\n",
       "      <td>...</td>\n",
       "      <td>...</td>\n",
       "      <td>...</td>\n",
       "      <td>...</td>\n",
       "      <td>...</td>\n",
       "      <td>...</td>\n",
       "      <td>...</td>\n",
       "      <td>...</td>\n",
       "      <td>...</td>\n",
       "      <td>...</td>\n",
       "      <td>...</td>\n",
       "      <td>...</td>\n",
       "    </tr>\n",
       "    <tr>\n",
       "      <th>5</th>\n",
       "      <td>0.027898</td>\n",
       "      <td>0.003927</td>\n",
       "      <td>0.016988</td>\n",
       "      <td>0.001234</td>\n",
       "      <td>3</td>\n",
       "      <td>1</td>\n",
       "      <td>distance</td>\n",
       "      <td>{'algo__n_neighbors': 3, 'algo__p': 1, 'algo__...</td>\n",
       "      <td>0.760504</td>\n",
       "      <td>0.734177</td>\n",
       "      <td>0.759494</td>\n",
       "      <td>0.751392</td>\n",
       "      <td>0.012179</td>\n",
       "      <td>95</td>\n",
       "    </tr>\n",
       "    <tr>\n",
       "      <th>3</th>\n",
       "      <td>0.021765</td>\n",
       "      <td>0.000979</td>\n",
       "      <td>0.013981</td>\n",
       "      <td>0.000431</td>\n",
       "      <td>1</td>\n",
       "      <td>2</td>\n",
       "      <td>distance</td>\n",
       "      <td>{'algo__n_neighbors': 1, 'algo__p': 2, 'algo__...</td>\n",
       "      <td>0.768908</td>\n",
       "      <td>0.670886</td>\n",
       "      <td>0.734177</td>\n",
       "      <td>0.724657</td>\n",
       "      <td>0.040579</td>\n",
       "      <td>97</td>\n",
       "    </tr>\n",
       "    <tr>\n",
       "      <th>2</th>\n",
       "      <td>0.020966</td>\n",
       "      <td>0.000241</td>\n",
       "      <td>0.030714</td>\n",
       "      <td>0.001670</td>\n",
       "      <td>1</td>\n",
       "      <td>2</td>\n",
       "      <td>uniform</td>\n",
       "      <td>{'algo__n_neighbors': 1, 'algo__p': 2, 'algo__...</td>\n",
       "      <td>0.768908</td>\n",
       "      <td>0.670886</td>\n",
       "      <td>0.734177</td>\n",
       "      <td>0.724657</td>\n",
       "      <td>0.040579</td>\n",
       "      <td>97</td>\n",
       "    </tr>\n",
       "    <tr>\n",
       "      <th>1</th>\n",
       "      <td>0.031265</td>\n",
       "      <td>0.005199</td>\n",
       "      <td>0.020930</td>\n",
       "      <td>0.004780</td>\n",
       "      <td>1</td>\n",
       "      <td>1</td>\n",
       "      <td>distance</td>\n",
       "      <td>{'algo__n_neighbors': 1, 'algo__p': 1, 'algo__...</td>\n",
       "      <td>0.764706</td>\n",
       "      <td>0.670886</td>\n",
       "      <td>0.725738</td>\n",
       "      <td>0.720443</td>\n",
       "      <td>0.038484</td>\n",
       "      <td>99</td>\n",
       "    </tr>\n",
       "    <tr>\n",
       "      <th>0</th>\n",
       "      <td>0.046804</td>\n",
       "      <td>0.015226</td>\n",
       "      <td>0.046103</td>\n",
       "      <td>0.006504</td>\n",
       "      <td>1</td>\n",
       "      <td>1</td>\n",
       "      <td>uniform</td>\n",
       "      <td>{'algo__n_neighbors': 1, 'algo__p': 1, 'algo__...</td>\n",
       "      <td>0.764706</td>\n",
       "      <td>0.670886</td>\n",
       "      <td>0.725738</td>\n",
       "      <td>0.720443</td>\n",
       "      <td>0.038484</td>\n",
       "      <td>99</td>\n",
       "    </tr>\n",
       "  </tbody>\n",
       "</table>\n",
       "<p>100 rows × 14 columns</p>\n",
       "</div>"
      ],
      "text/plain": [
       "    mean_fit_time  std_fit_time  mean_score_time  std_score_time  \\\n",
       "36       0.028880      0.003545         0.045320        0.015789   \n",
       "28       0.030579      0.007441         0.045260        0.008817   \n",
       "40       0.020781      0.001580         0.031566        0.000417   \n",
       "54       0.035464      0.010580         0.047075        0.006995   \n",
       "38       0.028823      0.008753         0.040950        0.007347   \n",
       "..            ...           ...              ...             ...   \n",
       "5        0.027898      0.003927         0.016988        0.001234   \n",
       "3        0.021765      0.000979         0.013981        0.000431   \n",
       "2        0.020966      0.000241         0.030714        0.001670   \n",
       "1        0.031265      0.005199         0.020930        0.004780   \n",
       "0        0.046804      0.015226         0.046103        0.006504   \n",
       "\n",
       "   param_algo__n_neighbors param_algo__p param_algo__weights  \\\n",
       "36                      19             1             uniform   \n",
       "28                      15             1             uniform   \n",
       "40                      21             1             uniform   \n",
       "54                      27             2             uniform   \n",
       "38                      19             2             uniform   \n",
       "..                     ...           ...                 ...   \n",
       "5                        3             1            distance   \n",
       "3                        1             2            distance   \n",
       "2                        1             2             uniform   \n",
       "1                        1             1            distance   \n",
       "0                        1             1             uniform   \n",
       "\n",
       "                                               params  split0_test_score  \\\n",
       "36  {'algo__n_neighbors': 19, 'algo__p': 1, 'algo_...           0.815126   \n",
       "28  {'algo__n_neighbors': 15, 'algo__p': 1, 'algo_...           0.815126   \n",
       "40  {'algo__n_neighbors': 21, 'algo__p': 1, 'algo_...           0.815126   \n",
       "54  {'algo__n_neighbors': 27, 'algo__p': 2, 'algo_...           0.815126   \n",
       "38  {'algo__n_neighbors': 19, 'algo__p': 2, 'algo_...           0.815126   \n",
       "..                                                ...                ...   \n",
       "5   {'algo__n_neighbors': 3, 'algo__p': 1, 'algo__...           0.760504   \n",
       "3   {'algo__n_neighbors': 1, 'algo__p': 2, 'algo__...           0.768908   \n",
       "2   {'algo__n_neighbors': 1, 'algo__p': 2, 'algo__...           0.768908   \n",
       "1   {'algo__n_neighbors': 1, 'algo__p': 1, 'algo__...           0.764706   \n",
       "0   {'algo__n_neighbors': 1, 'algo__p': 1, 'algo__...           0.764706   \n",
       "\n",
       "    split1_test_score  split2_test_score  mean_test_score  std_test_score  \\\n",
       "36           0.818565           0.805907         0.813200        0.005344   \n",
       "28           0.810127           0.810127         0.811793        0.002357   \n",
       "40           0.818565           0.801688         0.811793        0.007282   \n",
       "54           0.827004           0.793249         0.811793        0.013981   \n",
       "38           0.814346           0.805907         0.811793        0.004174   \n",
       "..                ...                ...              ...             ...   \n",
       "5            0.734177           0.759494         0.751392        0.012179   \n",
       "3            0.670886           0.734177         0.724657        0.040579   \n",
       "2            0.670886           0.734177         0.724657        0.040579   \n",
       "1            0.670886           0.725738         0.720443        0.038484   \n",
       "0            0.670886           0.725738         0.720443        0.038484   \n",
       "\n",
       "    rank_test_score  \n",
       "36                1  \n",
       "28                2  \n",
       "40                2  \n",
       "54                2  \n",
       "38                2  \n",
       "..              ...  \n",
       "5                95  \n",
       "3                97  \n",
       "2                97  \n",
       "1                99  \n",
       "0                99  \n",
       "\n",
       "[100 rows x 14 columns]"
      ]
     },
     "execution_count": 19,
     "metadata": {},
     "output_type": "execute_result"
    }
   ],
   "source": [
    "pd.DataFrame(model.cv_results_).sort_values('rank_test_score')"
   ]
  },
  {
   "cell_type": "code",
   "execution_count": 20,
   "id": "0a43663f-f631-4952-92ed-3543baa348bf",
   "metadata": {},
   "outputs": [
    {
     "data": {
      "text/plain": [
       "{'algo__n_neighbors': 19, 'algo__p': 1, 'algo__weights': 'uniform'}"
      ]
     },
     "execution_count": 20,
     "metadata": {},
     "output_type": "execute_result"
    }
   ],
   "source": [
    "model.best_params_"
   ]
  },
  {
   "cell_type": "code",
   "execution_count": 27,
   "id": "f5823df9-c628-40e8-b7ed-9d19edecbd9e",
   "metadata": {},
   "outputs": [
    {
     "data": {
      "text/plain": [
       "(0.8188202247191011, 0.7877094972067039, 0.8131995414199436)"
      ]
     },
     "execution_count": 27,
     "metadata": {},
     "output_type": "execute_result"
    }
   ],
   "source": [
    "#hasil akhir yang di peroleh\n",
    "#tidak ada data lekage semua aman dengan menggunakan GridSearchCV\n",
    "model.score(X_train, y_train),  model.score(X_test, y_test), model.best_score_"
   ]
  },
  {
   "cell_type": "markdown",
   "id": "3c17036d-a9d4-40aa-894d-7618fddb94fa",
   "metadata": {},
   "source": [
    "# 2 Cek prediksi melalui model yang telah kita buat"
   ]
  },
  {
   "cell_type": "code",
   "execution_count": 49,
   "id": "3e24908e-1bb9-4835-a399-beb40fb08ad6",
   "metadata": {},
   "outputs": [
    {
     "data": {
      "text/html": [
       "<div>\n",
       "<style scoped>\n",
       "    .dataframe tbody tr th:only-of-type {\n",
       "        vertical-align: middle;\n",
       "    }\n",
       "\n",
       "    .dataframe tbody tr th {\n",
       "        vertical-align: top;\n",
       "    }\n",
       "\n",
       "    .dataframe thead th {\n",
       "        text-align: right;\n",
       "    }\n",
       "</style>\n",
       "<table border=\"1\" class=\"dataframe\">\n",
       "  <thead>\n",
       "    <tr style=\"text-align: right;\">\n",
       "      <th></th>\n",
       "      <th>Pclass</th>\n",
       "      <th>Sex</th>\n",
       "      <th>SibSp</th>\n",
       "      <th>Parch</th>\n",
       "      <th>Fare</th>\n",
       "      <th>Embarked</th>\n",
       "    </tr>\n",
       "    <tr>\n",
       "      <th>PassengerId</th>\n",
       "      <th></th>\n",
       "      <th></th>\n",
       "      <th></th>\n",
       "      <th></th>\n",
       "      <th></th>\n",
       "      <th></th>\n",
       "    </tr>\n",
       "  </thead>\n",
       "  <tbody>\n",
       "    <tr>\n",
       "      <th>1</th>\n",
       "      <td>3</td>\n",
       "      <td>male</td>\n",
       "      <td>1</td>\n",
       "      <td>0</td>\n",
       "      <td>7.25</td>\n",
       "      <td>S</td>\n",
       "    </tr>\n",
       "  </tbody>\n",
       "</table>\n",
       "</div>"
      ],
      "text/plain": [
       "             Pclass   Sex  SibSp  Parch  Fare Embarked\n",
       "PassengerId                                           \n",
       "1                 3  male      1      0  7.25        S"
      ]
     },
     "execution_count": 49,
     "metadata": {},
     "output_type": "execute_result"
    }
   ],
   "source": [
    "X.iloc[:1]"
   ]
  },
  {
   "cell_type": "code",
   "execution_count": 114,
   "id": "1f2b0c63-f221-4281-b184-2a73353e1f58",
   "metadata": {},
   "outputs": [
    {
     "data": {
      "text/html": [
       "<div>\n",
       "<style scoped>\n",
       "    .dataframe tbody tr th:only-of-type {\n",
       "        vertical-align: middle;\n",
       "    }\n",
       "\n",
       "    .dataframe tbody tr th {\n",
       "        vertical-align: top;\n",
       "    }\n",
       "\n",
       "    .dataframe thead th {\n",
       "        text-align: right;\n",
       "    }\n",
       "</style>\n",
       "<table border=\"1\" class=\"dataframe\">\n",
       "  <thead>\n",
       "    <tr style=\"text-align: right;\">\n",
       "      <th></th>\n",
       "      <th>Pclass</th>\n",
       "      <th>Sex</th>\n",
       "      <th>SibSp</th>\n",
       "      <th>Parch</th>\n",
       "      <th>Fare</th>\n",
       "      <th>Embarked</th>\n",
       "    </tr>\n",
       "  </thead>\n",
       "  <tbody>\n",
       "    <tr>\n",
       "      <th>Rose</th>\n",
       "      <td>1</td>\n",
       "      <td>female</td>\n",
       "      <td>1</td>\n",
       "      <td>1</td>\n",
       "      <td>80</td>\n",
       "      <td>S</td>\n",
       "    </tr>\n",
       "    <tr>\n",
       "      <th>Jack</th>\n",
       "      <td>3</td>\n",
       "      <td>male</td>\n",
       "      <td>0</td>\n",
       "      <td>0</td>\n",
       "      <td>5</td>\n",
       "      <td>S</td>\n",
       "    </tr>\n",
       "    <tr>\n",
       "      <th>Wak Yogi</th>\n",
       "      <td>1</td>\n",
       "      <td>male</td>\n",
       "      <td>0</td>\n",
       "      <td>0</td>\n",
       "      <td>31</td>\n",
       "      <td>S</td>\n",
       "    </tr>\n",
       "  </tbody>\n",
       "</table>\n",
       "</div>"
      ],
      "text/plain": [
       "          Pclass     Sex  SibSp  Parch  Fare Embarked\n",
       "Rose           1  female      1      1    80        S\n",
       "Jack           3    male      0      0     5        S\n",
       "Wak Yogi       1    male      0      0    31        S"
      ]
     },
     "execution_count": 114,
     "metadata": {},
     "output_type": "execute_result"
    }
   ],
   "source": [
    "data = [\n",
    "    [1,\"female\",1,1,80,\"S\"],\n",
    "    [3, \"male\",0,0,5,\"S\"],\n",
    "    [1, \"male\",0,0,31,\"S\"]\n",
    "]\n",
    "\n",
    "X_predic = pd.DataFrame(data, index=[\"Rose\", \"Jack\",\"Wak Yogi\"], columns = X.columns)\n",
    "X_predic"
   ]
  },
  {
   "cell_type": "code",
   "execution_count": 113,
   "id": "597b8a79-689b-4d1c-b046-ee5633e47dec",
   "metadata": {},
   "outputs": [
    {
     "data": {
      "text/plain": [
       "array([1, 0, 0])"
      ]
     },
     "execution_count": 113,
     "metadata": {},
     "output_type": "execute_result"
    }
   ],
   "source": [
    "model.predict(X_predic)"
   ]
  },
  {
   "cell_type": "code",
   "execution_count": 107,
   "id": "1b10d002-6eb1-4e6a-930d-48013b158eb1",
   "metadata": {},
   "outputs": [
    {
     "data": {
      "text/html": [
       "<div>\n",
       "<style scoped>\n",
       "    .dataframe tbody tr th:only-of-type {\n",
       "        vertical-align: middle;\n",
       "    }\n",
       "\n",
       "    .dataframe tbody tr th {\n",
       "        vertical-align: top;\n",
       "    }\n",
       "\n",
       "    .dataframe thead th {\n",
       "        text-align: right;\n",
       "    }\n",
       "</style>\n",
       "<table border=\"1\" class=\"dataframe\">\n",
       "  <thead>\n",
       "    <tr style=\"text-align: right;\">\n",
       "      <th></th>\n",
       "      <th>Pclass</th>\n",
       "      <th>Sex</th>\n",
       "      <th>SibSp</th>\n",
       "      <th>Parch</th>\n",
       "      <th>Fare</th>\n",
       "      <th>Embarked</th>\n",
       "      <th>Survived</th>\n",
       "    </tr>\n",
       "  </thead>\n",
       "  <tbody>\n",
       "    <tr>\n",
       "      <th>Rose</th>\n",
       "      <td>1</td>\n",
       "      <td>female</td>\n",
       "      <td>1</td>\n",
       "      <td>1</td>\n",
       "      <td>80</td>\n",
       "      <td>S</td>\n",
       "      <td>1</td>\n",
       "    </tr>\n",
       "    <tr>\n",
       "      <th>Jack</th>\n",
       "      <td>3</td>\n",
       "      <td>male</td>\n",
       "      <td>0</td>\n",
       "      <td>0</td>\n",
       "      <td>5</td>\n",
       "      <td>S</td>\n",
       "      <td>0</td>\n",
       "    </tr>\n",
       "    <tr>\n",
       "      <th>Wak Yogi</th>\n",
       "      <td>1</td>\n",
       "      <td>male</td>\n",
       "      <td>0</td>\n",
       "      <td>0</td>\n",
       "      <td>31</td>\n",
       "      <td>S</td>\n",
       "      <td>1</td>\n",
       "    </tr>\n",
       "  </tbody>\n",
       "</table>\n",
       "</div>"
      ],
      "text/plain": [
       "          Pclass     Sex  SibSp  Parch  Fare Embarked  Survived\n",
       "Rose           1  female      1      1    80        S         1\n",
       "Jack           3    male      0      0     5        S         0\n",
       "Wak Yogi       1    male      0      0    31        S         1"
      ]
     },
     "execution_count": 107,
     "metadata": {},
     "output_type": "execute_result"
    }
   ],
   "source": [
    "X_predic[\"Survived\"] = model.predict(X_predic)\n",
    "X_predic"
   ]
  },
  {
   "cell_type": "code",
   "execution_count": null,
   "id": "8c02cfc8-839b-4e0e-a084-a3b3bfdea8d6",
   "metadata": {},
   "outputs": [],
   "source": []
  }
 ],
 "metadata": {
  "kernelspec": {
   "display_name": "Python 3 (ipykernel)",
   "language": "python",
   "name": "python3"
  },
  "language_info": {
   "codemirror_mode": {
    "name": "ipython",
    "version": 3
   },
   "file_extension": ".py",
   "mimetype": "text/x-python",
   "name": "python",
   "nbconvert_exporter": "python",
   "pygments_lexer": "ipython3",
   "version": "3.8.8"
  }
 },
 "nbformat": 4,
 "nbformat_minor": 5
}
