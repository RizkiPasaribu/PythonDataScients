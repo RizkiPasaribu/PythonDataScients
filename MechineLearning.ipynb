{
 "cells": [
  {
   "cell_type": "markdown",
   "id": "a78dd3d4-4426-4ab9-b8cf-00c3c3565c33",
   "metadata": {},
   "source": [
    "# 1 Mechine Learning"
   ]
  },
  {
   "cell_type": "code",
   "execution_count": 56,
   "id": "ab10c5a4-ee6f-4c62-9b54-e86002163589",
   "metadata": {},
   "outputs": [],
   "source": [
    "import pandas as pd\n",
    "\n",
    "from sklearn.model_selection import train_test_split"
   ]
  },
  {
   "cell_type": "code",
   "execution_count": 39,
   "id": "850a84f8-c47b-4957-9e7b-123bf0e5bf80",
   "metadata": {},
   "outputs": [],
   "source": [
    "df = pd.read_csv(\"data/titanic.csv\", index_col=\"PassengerId\")\n",
    "df.drop(columns=[\"Name\",\"Ticket\",\"Age\",\"Cabin\"],inplace=True)"
   ]
  },
  {
   "cell_type": "code",
   "execution_count": 57,
   "id": "0e9783d8-3505-4d4b-9450-72e1e41697ff",
   "metadata": {},
   "outputs": [
    {
     "data": {
      "text/plain": [
       "((712, 6), (179, 6), (712,), (179,))"
      ]
     },
     "execution_count": 57,
     "metadata": {},
     "output_type": "execute_result"
    }
   ],
   "source": [
    "# X = input dan y = Target\n",
    "\n",
    "X = df.drop(columns=[\"Survived\"])\n",
    "y = df[\"Survived\"]\n",
    "\n",
    "#split data                  \n",
    "#stratify berguna untuk mengklasifikasikan berdasarkan label survive dan not survive\n",
    "X_train, X_test, y_train, y_test = train_test_split(X, y, test_size=0.2, stratify=y, random_state=42)\n",
    "X_train.shape, X_test.shape, y_train.shape, y_test.shape"
   ]
  },
  {
   "cell_type": "markdown",
   "id": "590f0771-59a2-4604-ae4d-ff67e73e6012",
   "metadata": {},
   "source": [
    "## Prepocessor Menggunakan Pipe line Agar data tidak bocor / data leakage"
   ]
  },
  {
   "cell_type": "code",
   "execution_count": 58,
   "id": "e4a31f4f-7099-4277-8e0e-9db0306d1f08",
   "metadata": {},
   "outputs": [],
   "source": [
    "from sklearn.pipeline import Pipeline\n",
    "from sklearn.impute import SimpleImputer\n",
    "from sklearn.preprocessing import MinMaxScaler, OneHotEncoder"
   ]
  },
  {
   "cell_type": "code",
   "execution_count": 59,
   "id": "aa56e524-8059-4712-891b-a84c6e595836",
   "metadata": {},
   "outputs": [],
   "source": [
    "numerical_pipeline = Pipeline([\n",
    "    #nama steps \n",
    "    (\"imputer\", SimpleImputer(strategy=\"mean\")),\n",
    "    (\"scaler\", MinMaxScaler())\n",
    "])\n",
    "\n",
    "categorical_pipeline = Pipeline([ \n",
    "    (\"imputer\", SimpleImputer(strategy=\"most_frequent\")),\n",
    "    #encode\n",
    "    (\"onehot\", OneHotEncoder())\n",
    "])"
   ]
  },
  {
   "cell_type": "code",
   "execution_count": 60,
   "id": "9e51cb8f-cd78-4111-abcf-720a8c9e2eb6",
   "metadata": {},
   "outputs": [],
   "source": [
    "#berguna untuk memfilter kolom mana yang masuk pipa numerik dan pipa kategori\n",
    "from sklearn.compose import ColumnTransformer"
   ]
  },
  {
   "cell_type": "code",
   "execution_count": 61,
   "id": "f8995a79-5873-412c-8c2d-799a51f9974f",
   "metadata": {},
   "outputs": [
    {
     "data": {
      "text/html": [
       "<div>\n",
       "<style scoped>\n",
       "    .dataframe tbody tr th:only-of-type {\n",
       "        vertical-align: middle;\n",
       "    }\n",
       "\n",
       "    .dataframe tbody tr th {\n",
       "        vertical-align: top;\n",
       "    }\n",
       "\n",
       "    .dataframe thead th {\n",
       "        text-align: right;\n",
       "    }\n",
       "</style>\n",
       "<table border=\"1\" class=\"dataframe\">\n",
       "  <thead>\n",
       "    <tr style=\"text-align: right;\">\n",
       "      <th></th>\n",
       "      <th>Pclass</th>\n",
       "      <th>Sex</th>\n",
       "      <th>SibSp</th>\n",
       "      <th>Parch</th>\n",
       "      <th>Fare</th>\n",
       "      <th>Embarked</th>\n",
       "    </tr>\n",
       "    <tr>\n",
       "      <th>PassengerId</th>\n",
       "      <th></th>\n",
       "      <th></th>\n",
       "      <th></th>\n",
       "      <th></th>\n",
       "      <th></th>\n",
       "      <th></th>\n",
       "    </tr>\n",
       "  </thead>\n",
       "  <tbody>\n",
       "    <tr>\n",
       "      <th>693</th>\n",
       "      <td>3</td>\n",
       "      <td>male</td>\n",
       "      <td>0</td>\n",
       "      <td>0</td>\n",
       "      <td>56.4958</td>\n",
       "      <td>S</td>\n",
       "    </tr>\n",
       "    <tr>\n",
       "      <th>482</th>\n",
       "      <td>2</td>\n",
       "      <td>male</td>\n",
       "      <td>0</td>\n",
       "      <td>0</td>\n",
       "      <td>0.0000</td>\n",
       "      <td>S</td>\n",
       "    </tr>\n",
       "    <tr>\n",
       "      <th>528</th>\n",
       "      <td>1</td>\n",
       "      <td>male</td>\n",
       "      <td>0</td>\n",
       "      <td>0</td>\n",
       "      <td>221.7792</td>\n",
       "      <td>S</td>\n",
       "    </tr>\n",
       "    <tr>\n",
       "      <th>856</th>\n",
       "      <td>3</td>\n",
       "      <td>female</td>\n",
       "      <td>0</td>\n",
       "      <td>1</td>\n",
       "      <td>9.3500</td>\n",
       "      <td>S</td>\n",
       "    </tr>\n",
       "    <tr>\n",
       "      <th>802</th>\n",
       "      <td>2</td>\n",
       "      <td>female</td>\n",
       "      <td>1</td>\n",
       "      <td>1</td>\n",
       "      <td>26.2500</td>\n",
       "      <td>S</td>\n",
       "    </tr>\n",
       "  </tbody>\n",
       "</table>\n",
       "</div>"
      ],
      "text/plain": [
       "             Pclass     Sex  SibSp  Parch      Fare Embarked\n",
       "PassengerId                                                 \n",
       "693               3    male      0      0   56.4958        S\n",
       "482               2    male      0      0    0.0000        S\n",
       "528               1    male      0      0  221.7792        S\n",
       "856               3  female      0      1    9.3500        S\n",
       "802               2  female      1      1   26.2500        S"
      ]
     },
     "execution_count": 61,
     "metadata": {},
     "output_type": "execute_result"
    }
   ],
   "source": [
    "X_train.head()"
   ]
  },
  {
   "cell_type": "code",
   "execution_count": 62,
   "id": "20c9a954-d3f2-4638-b34b-04a97f0ec399",
   "metadata": {},
   "outputs": [],
   "source": [
    "preprocesor = ColumnTransformer([\n",
    "    (\"numeric\", numerical_pipeline, [\"SibSp\",\"SibSp\",\"Fare\"]),\n",
    "    (\"categoric\",categorical_pipeline,[\"Pclass\",\"Sex\",\"Embarked\"])\n",
    "])"
   ]
  },
  {
   "cell_type": "markdown",
   "id": "7b2feb7f-c519-4d68-9e4b-c1a998a077b2",
   "metadata": {},
   "source": [
    "### Pipeline"
   ]
  },
  {
   "cell_type": "code",
   "execution_count": 63,
   "id": "4689a10c-3850-427e-92d0-ab5bd3d069e0",
   "metadata": {},
   "outputs": [
    {
     "data": {
      "text/plain": [
       "Pipeline(steps=[('prep',\n",
       "                 ColumnTransformer(transformers=[('numeric',\n",
       "                                                  Pipeline(steps=[('imputer',\n",
       "                                                                   SimpleImputer()),\n",
       "                                                                  ('scaler',\n",
       "                                                                   MinMaxScaler())]),\n",
       "                                                  ['SibSp', 'SibSp', 'Fare']),\n",
       "                                                 ('categoric',\n",
       "                                                  Pipeline(steps=[('imputer',\n",
       "                                                                   SimpleImputer(strategy='most_frequent')),\n",
       "                                                                  ('onehot',\n",
       "                                                                   OneHotEncoder())]),\n",
       "                                                  ['Pclass', 'Sex',\n",
       "                                                   'Embarked'])])),\n",
       "                ('algo', KNeighborsClassifier())])"
      ]
     },
     "execution_count": 63,
     "metadata": {},
     "output_type": "execute_result"
    }
   ],
   "source": [
    "from sklearn.neighbors import KNeighborsClassifier\n",
    "\n",
    "pipeline = Pipeline([\n",
    "    (\"prep\", preprocesor),\n",
    "    (\"algo\",KNeighborsClassifier())\n",
    "])\n",
    "\n",
    "pipeline.fit(X_train, y_train)"
   ]
  },
  {
   "cell_type": "code",
   "execution_count": 64,
   "id": "e67cfd7c-276d-4ab7-a81c-30461aec932b",
   "metadata": {},
   "outputs": [
    {
     "data": {
      "text/plain": [
       "0.770949720670391"
      ]
     },
     "execution_count": 64,
     "metadata": {},
     "output_type": "execute_result"
    }
   ],
   "source": [
    "pipeline.score(X_test, y_test)"
   ]
  },
  {
   "cell_type": "markdown",
   "id": "0725caac-ba5c-475c-b5c3-ddf7dac916b7",
   "metadata": {},
   "source": [
    "# 2 Grid Search CV(Cross Validation) ---Final---"
   ]
  },
  {
   "cell_type": "code",
   "execution_count": 65,
   "id": "553df2dc-81a5-4ae3-ac35-289b1a6961bb",
   "metadata": {},
   "outputs": [
    {
     "name": "stdout",
     "output_type": "stream",
     "text": [
      "Fitting 3 folds for each of 100 candidates, totalling 300 fits\n"
     ]
    },
    {
     "data": {
      "text/plain": [
       "GridSearchCV(cv=3,\n",
       "             estimator=Pipeline(steps=[('prep',\n",
       "                                        ColumnTransformer(transformers=[('numeric',\n",
       "                                                                         Pipeline(steps=[('imputer',\n",
       "                                                                                          SimpleImputer()),\n",
       "                                                                                         ('scaler',\n",
       "                                                                                          MinMaxScaler())]),\n",
       "                                                                         ['SibSp',\n",
       "                                                                          'SibSp',\n",
       "                                                                          'Fare']),\n",
       "                                                                        ('categoric',\n",
       "                                                                         Pipeline(steps=[('imputer',\n",
       "                                                                                          SimpleImputer(strategy='most_frequent')),\n",
       "                                                                                         ('onehot',\n",
       "                                                                                          OneHotEncoder())]),\n",
       "                                                                         ['Pclass',\n",
       "                                                                          'Sex',\n",
       "                                                                          'Embarked'])])),\n",
       "                                       ('algo', KNeighborsClassifier())]),\n",
       "             n_jobs=-1,\n",
       "             param_grid={'algo__n_neighbors': range(1, 51, 2),\n",
       "                         'algo__p': [1, 2],\n",
       "                         'algo__weights': ['uniform', 'distance']},\n",
       "             verbose=1)"
      ]
     },
     "execution_count": 65,
     "metadata": {},
     "output_type": "execute_result"
    }
   ],
   "source": [
    "from sklearn.model_selection import GridSearchCV\n",
    "\n",
    "#paremeter tuning\n",
    "parameter = {\n",
    "    #kenapa ada algo karna untuk memberi tahu n_neigborh punya nya pipeline KNeighborsClassifier()\n",
    "    \"algo__n_neighbors\":range(1,51,2),\n",
    "    \"algo__weights\":[\"uniform\",\"distance\"],\n",
    "    \"algo__p\":[1,2]\n",
    "}\n",
    "\n",
    "#biasany crosvalidation 3-5\n",
    "#n_jobs mw berapa banyak core cpu di pakai\n",
    "model = GridSearchCV(pipeline, parameter,cv=3,n_jobs=-1,verbose =1)\n",
    "model.fit(X_train, y_train)"
   ]
  },
  {
   "cell_type": "code",
   "execution_count": 69,
   "id": "d2ded8fd-a2ca-494a-a874-942b7bf16d0f",
   "metadata": {},
   "outputs": [
    {
     "data": {
      "text/html": [
       "<div>\n",
       "<style scoped>\n",
       "    .dataframe tbody tr th:only-of-type {\n",
       "        vertical-align: middle;\n",
       "    }\n",
       "\n",
       "    .dataframe tbody tr th {\n",
       "        vertical-align: top;\n",
       "    }\n",
       "\n",
       "    .dataframe thead th {\n",
       "        text-align: right;\n",
       "    }\n",
       "</style>\n",
       "<table border=\"1\" class=\"dataframe\">\n",
       "  <thead>\n",
       "    <tr style=\"text-align: right;\">\n",
       "      <th></th>\n",
       "      <th>mean_fit_time</th>\n",
       "      <th>std_fit_time</th>\n",
       "      <th>mean_score_time</th>\n",
       "      <th>std_score_time</th>\n",
       "      <th>param_algo__n_neighbors</th>\n",
       "      <th>param_algo__p</th>\n",
       "      <th>param_algo__weights</th>\n",
       "      <th>params</th>\n",
       "      <th>split0_test_score</th>\n",
       "      <th>split1_test_score</th>\n",
       "      <th>split2_test_score</th>\n",
       "      <th>mean_test_score</th>\n",
       "      <th>std_test_score</th>\n",
       "      <th>rank_test_score</th>\n",
       "    </tr>\n",
       "  </thead>\n",
       "  <tbody>\n",
       "    <tr>\n",
       "      <th>26</th>\n",
       "      <td>0.024777</td>\n",
       "      <td>0.005470</td>\n",
       "      <td>0.031737</td>\n",
       "      <td>0.001040</td>\n",
       "      <td>13</td>\n",
       "      <td>2</td>\n",
       "      <td>uniform</td>\n",
       "      <td>{'algo__n_neighbors': 13, 'algo__p': 2, 'algo_...</td>\n",
       "      <td>0.819328</td>\n",
       "      <td>0.805907</td>\n",
       "      <td>0.805907</td>\n",
       "      <td>0.810381</td>\n",
       "      <td>0.006327</td>\n",
       "      <td>1</td>\n",
       "    </tr>\n",
       "    <tr>\n",
       "      <th>24</th>\n",
       "      <td>0.023580</td>\n",
       "      <td>0.001340</td>\n",
       "      <td>0.036673</td>\n",
       "      <td>0.000629</td>\n",
       "      <td>13</td>\n",
       "      <td>1</td>\n",
       "      <td>uniform</td>\n",
       "      <td>{'algo__n_neighbors': 13, 'algo__p': 1, 'algo_...</td>\n",
       "      <td>0.819328</td>\n",
       "      <td>0.805907</td>\n",
       "      <td>0.805907</td>\n",
       "      <td>0.810381</td>\n",
       "      <td>0.006327</td>\n",
       "      <td>1</td>\n",
       "    </tr>\n",
       "    <tr>\n",
       "      <th>44</th>\n",
       "      <td>0.020667</td>\n",
       "      <td>0.000804</td>\n",
       "      <td>0.031164</td>\n",
       "      <td>0.000158</td>\n",
       "      <td>23</td>\n",
       "      <td>1</td>\n",
       "      <td>uniform</td>\n",
       "      <td>{'algo__n_neighbors': 23, 'algo__p': 1, 'algo_...</td>\n",
       "      <td>0.810924</td>\n",
       "      <td>0.818565</td>\n",
       "      <td>0.797468</td>\n",
       "      <td>0.808986</td>\n",
       "      <td>0.008721</td>\n",
       "      <td>3</td>\n",
       "    </tr>\n",
       "    <tr>\n",
       "      <th>46</th>\n",
       "      <td>0.022306</td>\n",
       "      <td>0.001619</td>\n",
       "      <td>0.037102</td>\n",
       "      <td>0.006838</td>\n",
       "      <td>23</td>\n",
       "      <td>2</td>\n",
       "      <td>uniform</td>\n",
       "      <td>{'algo__n_neighbors': 23, 'algo__p': 2, 'algo_...</td>\n",
       "      <td>0.810924</td>\n",
       "      <td>0.818565</td>\n",
       "      <td>0.797468</td>\n",
       "      <td>0.808986</td>\n",
       "      <td>0.008721</td>\n",
       "      <td>3</td>\n",
       "    </tr>\n",
       "    <tr>\n",
       "      <th>36</th>\n",
       "      <td>0.019805</td>\n",
       "      <td>0.000161</td>\n",
       "      <td>0.031658</td>\n",
       "      <td>0.000597</td>\n",
       "      <td>19</td>\n",
       "      <td>1</td>\n",
       "      <td>uniform</td>\n",
       "      <td>{'algo__n_neighbors': 19, 'algo__p': 1, 'algo_...</td>\n",
       "      <td>0.798319</td>\n",
       "      <td>0.814346</td>\n",
       "      <td>0.810127</td>\n",
       "      <td>0.807597</td>\n",
       "      <td>0.006783</td>\n",
       "      <td>5</td>\n",
       "    </tr>\n",
       "    <tr>\n",
       "      <th>...</th>\n",
       "      <td>...</td>\n",
       "      <td>...</td>\n",
       "      <td>...</td>\n",
       "      <td>...</td>\n",
       "      <td>...</td>\n",
       "      <td>...</td>\n",
       "      <td>...</td>\n",
       "      <td>...</td>\n",
       "      <td>...</td>\n",
       "      <td>...</td>\n",
       "      <td>...</td>\n",
       "      <td>...</td>\n",
       "      <td>...</td>\n",
       "      <td>...</td>\n",
       "    </tr>\n",
       "    <tr>\n",
       "      <th>7</th>\n",
       "      <td>0.020887</td>\n",
       "      <td>0.000518</td>\n",
       "      <td>0.013277</td>\n",
       "      <td>0.000092</td>\n",
       "      <td>3</td>\n",
       "      <td>2</td>\n",
       "      <td>distance</td>\n",
       "      <td>{'algo__n_neighbors': 3, 'algo__p': 2, 'algo__...</td>\n",
       "      <td>0.768908</td>\n",
       "      <td>0.742616</td>\n",
       "      <td>0.763713</td>\n",
       "      <td>0.758412</td>\n",
       "      <td>0.011369</td>\n",
       "      <td>96</td>\n",
       "    </tr>\n",
       "    <tr>\n",
       "      <th>2</th>\n",
       "      <td>0.027024</td>\n",
       "      <td>0.001726</td>\n",
       "      <td>0.031724</td>\n",
       "      <td>0.001413</td>\n",
       "      <td>1</td>\n",
       "      <td>2</td>\n",
       "      <td>uniform</td>\n",
       "      <td>{'algo__n_neighbors': 1, 'algo__p': 2, 'algo__...</td>\n",
       "      <td>0.777311</td>\n",
       "      <td>0.700422</td>\n",
       "      <td>0.729958</td>\n",
       "      <td>0.735897</td>\n",
       "      <td>0.031669</td>\n",
       "      <td>97</td>\n",
       "    </tr>\n",
       "    <tr>\n",
       "      <th>1</th>\n",
       "      <td>0.025005</td>\n",
       "      <td>0.001352</td>\n",
       "      <td>0.015616</td>\n",
       "      <td>0.001585</td>\n",
       "      <td>1</td>\n",
       "      <td>1</td>\n",
       "      <td>distance</td>\n",
       "      <td>{'algo__n_neighbors': 1, 'algo__p': 1, 'algo__...</td>\n",
       "      <td>0.777311</td>\n",
       "      <td>0.700422</td>\n",
       "      <td>0.729958</td>\n",
       "      <td>0.735897</td>\n",
       "      <td>0.031669</td>\n",
       "      <td>97</td>\n",
       "    </tr>\n",
       "    <tr>\n",
       "      <th>3</th>\n",
       "      <td>0.022359</td>\n",
       "      <td>0.001594</td>\n",
       "      <td>0.014758</td>\n",
       "      <td>0.001027</td>\n",
       "      <td>1</td>\n",
       "      <td>2</td>\n",
       "      <td>distance</td>\n",
       "      <td>{'algo__n_neighbors': 1, 'algo__p': 2, 'algo__...</td>\n",
       "      <td>0.777311</td>\n",
       "      <td>0.700422</td>\n",
       "      <td>0.729958</td>\n",
       "      <td>0.735897</td>\n",
       "      <td>0.031669</td>\n",
       "      <td>97</td>\n",
       "    </tr>\n",
       "    <tr>\n",
       "      <th>0</th>\n",
       "      <td>0.025032</td>\n",
       "      <td>0.000864</td>\n",
       "      <td>0.031877</td>\n",
       "      <td>0.001904</td>\n",
       "      <td>1</td>\n",
       "      <td>1</td>\n",
       "      <td>uniform</td>\n",
       "      <td>{'algo__n_neighbors': 1, 'algo__p': 1, 'algo__...</td>\n",
       "      <td>0.777311</td>\n",
       "      <td>0.700422</td>\n",
       "      <td>0.729958</td>\n",
       "      <td>0.735897</td>\n",
       "      <td>0.031669</td>\n",
       "      <td>97</td>\n",
       "    </tr>\n",
       "  </tbody>\n",
       "</table>\n",
       "<p>100 rows × 14 columns</p>\n",
       "</div>"
      ],
      "text/plain": [
       "    mean_fit_time  std_fit_time  mean_score_time  std_score_time  \\\n",
       "26       0.024777      0.005470         0.031737        0.001040   \n",
       "24       0.023580      0.001340         0.036673        0.000629   \n",
       "44       0.020667      0.000804         0.031164        0.000158   \n",
       "46       0.022306      0.001619         0.037102        0.006838   \n",
       "36       0.019805      0.000161         0.031658        0.000597   \n",
       "..            ...           ...              ...             ...   \n",
       "7        0.020887      0.000518         0.013277        0.000092   \n",
       "2        0.027024      0.001726         0.031724        0.001413   \n",
       "1        0.025005      0.001352         0.015616        0.001585   \n",
       "3        0.022359      0.001594         0.014758        0.001027   \n",
       "0        0.025032      0.000864         0.031877        0.001904   \n",
       "\n",
       "   param_algo__n_neighbors param_algo__p param_algo__weights  \\\n",
       "26                      13             2             uniform   \n",
       "24                      13             1             uniform   \n",
       "44                      23             1             uniform   \n",
       "46                      23             2             uniform   \n",
       "36                      19             1             uniform   \n",
       "..                     ...           ...                 ...   \n",
       "7                        3             2            distance   \n",
       "2                        1             2             uniform   \n",
       "1                        1             1            distance   \n",
       "3                        1             2            distance   \n",
       "0                        1             1             uniform   \n",
       "\n",
       "                                               params  split0_test_score  \\\n",
       "26  {'algo__n_neighbors': 13, 'algo__p': 2, 'algo_...           0.819328   \n",
       "24  {'algo__n_neighbors': 13, 'algo__p': 1, 'algo_...           0.819328   \n",
       "44  {'algo__n_neighbors': 23, 'algo__p': 1, 'algo_...           0.810924   \n",
       "46  {'algo__n_neighbors': 23, 'algo__p': 2, 'algo_...           0.810924   \n",
       "36  {'algo__n_neighbors': 19, 'algo__p': 1, 'algo_...           0.798319   \n",
       "..                                                ...                ...   \n",
       "7   {'algo__n_neighbors': 3, 'algo__p': 2, 'algo__...           0.768908   \n",
       "2   {'algo__n_neighbors': 1, 'algo__p': 2, 'algo__...           0.777311   \n",
       "1   {'algo__n_neighbors': 1, 'algo__p': 1, 'algo__...           0.777311   \n",
       "3   {'algo__n_neighbors': 1, 'algo__p': 2, 'algo__...           0.777311   \n",
       "0   {'algo__n_neighbors': 1, 'algo__p': 1, 'algo__...           0.777311   \n",
       "\n",
       "    split1_test_score  split2_test_score  mean_test_score  std_test_score  \\\n",
       "26           0.805907           0.805907         0.810381        0.006327   \n",
       "24           0.805907           0.805907         0.810381        0.006327   \n",
       "44           0.818565           0.797468         0.808986        0.008721   \n",
       "46           0.818565           0.797468         0.808986        0.008721   \n",
       "36           0.814346           0.810127         0.807597        0.006783   \n",
       "..                ...                ...              ...             ...   \n",
       "7            0.742616           0.763713         0.758412        0.011369   \n",
       "2            0.700422           0.729958         0.735897        0.031669   \n",
       "1            0.700422           0.729958         0.735897        0.031669   \n",
       "3            0.700422           0.729958         0.735897        0.031669   \n",
       "0            0.700422           0.729958         0.735897        0.031669   \n",
       "\n",
       "    rank_test_score  \n",
       "26                1  \n",
       "24                1  \n",
       "44                3  \n",
       "46                3  \n",
       "36                5  \n",
       "..              ...  \n",
       "7                96  \n",
       "2                97  \n",
       "1                97  \n",
       "3                97  \n",
       "0                97  \n",
       "\n",
       "[100 rows x 14 columns]"
      ]
     },
     "execution_count": 69,
     "metadata": {},
     "output_type": "execute_result"
    }
   ],
   "source": [
    "pd.DataFrame(model.cv_results_).sort_values('rank_test_score')"
   ]
  },
  {
   "cell_type": "code",
   "execution_count": 66,
   "id": "0a43663f-f631-4952-92ed-3543baa348bf",
   "metadata": {},
   "outputs": [
    {
     "data": {
      "text/plain": [
       "{'algo__n_neighbors': 13, 'algo__p': 1, 'algo__weights': 'uniform'}"
      ]
     },
     "execution_count": 66,
     "metadata": {},
     "output_type": "execute_result"
    }
   ],
   "source": [
    "model.best_params_"
   ]
  },
  {
   "cell_type": "code",
   "execution_count": 70,
   "id": "f5823df9-c628-40e8-b7ed-9d19edecbd9e",
   "metadata": {},
   "outputs": [
    {
     "data": {
      "text/plain": [
       "(0.8258426966292135, 0.776536312849162)"
      ]
     },
     "execution_count": 70,
     "metadata": {},
     "output_type": "execute_result"
    }
   ],
   "source": [
    "#hasil akhir yang di peroleh\n",
    "#tidak ada data lekage semua aman dengan menggunakan GridSearchCV\n",
    "model.score(X_train, y_train),  model.score(X_test, y_test)"
   ]
  },
  {
   "cell_type": "code",
   "execution_count": null,
   "id": "5fae2700-0856-48aa-8a9e-6f9f36fa866f",
   "metadata": {},
   "outputs": [],
   "source": []
  }
 ],
 "metadata": {
  "kernelspec": {
   "display_name": "Python 3 (ipykernel)",
   "language": "python",
   "name": "python3"
  },
  "language_info": {
   "codemirror_mode": {
    "name": "ipython",
    "version": 3
   },
   "file_extension": ".py",
   "mimetype": "text/x-python",
   "name": "python",
   "nbconvert_exporter": "python",
   "pygments_lexer": "ipython3",
   "version": "3.8.8"
  }
 },
 "nbformat": 4,
 "nbformat_minor": 5
}
