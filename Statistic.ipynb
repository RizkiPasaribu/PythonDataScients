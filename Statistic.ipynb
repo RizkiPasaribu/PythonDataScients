{
 "cells": [
  {
   "cell_type": "markdown",
   "id": "8b3a0e2b-95ce-4e4a-814f-d8afec6a954c",
   "metadata": {},
   "source": [
    "## 1 Statistika Deskriptif"
   ]
  },
  {
   "cell_type": "code",
   "execution_count": 8,
   "id": "f9029008-c4fc-4423-9628-1f22234845f7",
   "metadata": {},
   "outputs": [
    {
     "data": {
      "text/html": [
       "<div>\n",
       "<style scoped>\n",
       "    .dataframe tbody tr th:only-of-type {\n",
       "        vertical-align: middle;\n",
       "    }\n",
       "\n",
       "    .dataframe tbody tr th {\n",
       "        vertical-align: top;\n",
       "    }\n",
       "\n",
       "    .dataframe thead th {\n",
       "        text-align: right;\n",
       "    }\n",
       "</style>\n",
       "<table border=\"1\" class=\"dataframe\">\n",
       "  <thead>\n",
       "    <tr style=\"text-align: right;\">\n",
       "      <th></th>\n",
       "      <th>lampu_A</th>\n",
       "      <th>lampu_B</th>\n",
       "    </tr>\n",
       "  </thead>\n",
       "  <tbody>\n",
       "    <tr>\n",
       "      <th>0</th>\n",
       "      <td>63</td>\n",
       "      <td>72</td>\n",
       "    </tr>\n",
       "    <tr>\n",
       "      <th>1</th>\n",
       "      <td>54</td>\n",
       "      <td>54</td>\n",
       "    </tr>\n",
       "    <tr>\n",
       "      <th>2</th>\n",
       "      <td>72</td>\n",
       "      <td>63</td>\n",
       "    </tr>\n",
       "    <tr>\n",
       "      <th>3</th>\n",
       "      <td>63</td>\n",
       "      <td>72</td>\n",
       "    </tr>\n",
       "    <tr>\n",
       "      <th>4</th>\n",
       "      <td>45</td>\n",
       "      <td>54</td>\n",
       "    </tr>\n",
       "    <tr>\n",
       "      <th>5</th>\n",
       "      <td>54</td>\n",
       "      <td>54</td>\n",
       "    </tr>\n",
       "    <tr>\n",
       "      <th>6</th>\n",
       "      <td>45</td>\n",
       "      <td>62</td>\n",
       "    </tr>\n",
       "    <tr>\n",
       "      <th>7</th>\n",
       "      <td>54</td>\n",
       "      <td>65</td>\n",
       "    </tr>\n",
       "    <tr>\n",
       "      <th>8</th>\n",
       "      <td>54</td>\n",
       "      <td>70</td>\n",
       "    </tr>\n",
       "    <tr>\n",
       "      <th>9</th>\n",
       "      <td>63</td>\n",
       "      <td>62</td>\n",
       "    </tr>\n",
       "    <tr>\n",
       "      <th>10</th>\n",
       "      <td>54</td>\n",
       "      <td>55</td>\n",
       "    </tr>\n",
       "    <tr>\n",
       "      <th>11</th>\n",
       "      <td>54</td>\n",
       "      <td>63</td>\n",
       "    </tr>\n",
       "  </tbody>\n",
       "</table>\n",
       "</div>"
      ],
      "text/plain": [
       "    lampu_A  lampu_B\n",
       "0        63       72\n",
       "1        54       54\n",
       "2        72       63\n",
       "3        63       72\n",
       "4        45       54\n",
       "5        54       54\n",
       "6        45       62\n",
       "7        54       65\n",
       "8        54       70\n",
       "9        63       62\n",
       "10       54       55\n",
       "11       54       63"
      ]
     },
     "execution_count": 8,
     "metadata": {},
     "output_type": "execute_result"
    }
   ],
   "source": [
    "import pandas as pd\n",
    "import matplotlib.pyplot as plt\n",
    "\n",
    "x1 = [63,54,72,63,45,54,45,54,54,63,54,54]\n",
    "x2 = [72,54,63,72,54,54,62,65,70,62,55,63]\n",
    "tabel1 = pd.DataFrame({'lampu_A': x1, 'lampu_B':x2})\n",
    "tabel1"
   ]
  },
  {
   "cell_type": "code",
   "execution_count": 7,
   "id": "4595ecf0-f1e7-4095-98dd-e4c851d0ed80",
   "metadata": {},
   "outputs": [
    {
     "data": {
      "text/html": [
       "<div>\n",
       "<style scoped>\n",
       "    .dataframe tbody tr th:only-of-type {\n",
       "        vertical-align: middle;\n",
       "    }\n",
       "\n",
       "    .dataframe tbody tr th {\n",
       "        vertical-align: top;\n",
       "    }\n",
       "\n",
       "    .dataframe thead th {\n",
       "        text-align: right;\n",
       "    }\n",
       "</style>\n",
       "<table border=\"1\" class=\"dataframe\">\n",
       "  <thead>\n",
       "    <tr style=\"text-align: right;\">\n",
       "      <th></th>\n",
       "      <th>lampu_A</th>\n",
       "      <th>lampu_B</th>\n",
       "    </tr>\n",
       "  </thead>\n",
       "  <tbody>\n",
       "    <tr>\n",
       "      <th>count</th>\n",
       "      <td>12.000000</td>\n",
       "      <td>12.000000</td>\n",
       "    </tr>\n",
       "    <tr>\n",
       "      <th>mean</th>\n",
       "      <td>56.250000</td>\n",
       "      <td>62.166667</td>\n",
       "    </tr>\n",
       "    <tr>\n",
       "      <th>std</th>\n",
       "      <td>7.794229</td>\n",
       "      <td>6.846809</td>\n",
       "    </tr>\n",
       "    <tr>\n",
       "      <th>min</th>\n",
       "      <td>45.000000</td>\n",
       "      <td>54.000000</td>\n",
       "    </tr>\n",
       "    <tr>\n",
       "      <th>25%</th>\n",
       "      <td>54.000000</td>\n",
       "      <td>54.750000</td>\n",
       "    </tr>\n",
       "    <tr>\n",
       "      <th>50%</th>\n",
       "      <td>54.000000</td>\n",
       "      <td>62.500000</td>\n",
       "    </tr>\n",
       "    <tr>\n",
       "      <th>75%</th>\n",
       "      <td>63.000000</td>\n",
       "      <td>66.250000</td>\n",
       "    </tr>\n",
       "    <tr>\n",
       "      <th>max</th>\n",
       "      <td>72.000000</td>\n",
       "      <td>72.000000</td>\n",
       "    </tr>\n",
       "  </tbody>\n",
       "</table>\n",
       "</div>"
      ],
      "text/plain": [
       "         lampu_A    lampu_B\n",
       "count  12.000000  12.000000\n",
       "mean   56.250000  62.166667\n",
       "std     7.794229   6.846809\n",
       "min    45.000000  54.000000\n",
       "25%    54.000000  54.750000\n",
       "50%    54.000000  62.500000\n",
       "75%    63.000000  66.250000\n",
       "max    72.000000  72.000000"
      ]
     },
     "execution_count": 7,
     "metadata": {},
     "output_type": "execute_result"
    }
   ],
   "source": [
    "tabel1.describe()"
   ]
  },
  {
   "cell_type": "code",
   "execution_count": 31,
   "id": "cfbb352c-8654-4740-8cd7-09715f8bc0ec",
   "metadata": {},
   "outputs": [
    {
     "data": {
      "text/plain": [
       "{'whiskers': [<matplotlib.lines.Line2D at 0x7f28337350a0>,\n",
       "  <matplotlib.lines.Line2D at 0x7f2833735910>,\n",
       "  <matplotlib.lines.Line2D at 0x7f2832e62310>,\n",
       "  <matplotlib.lines.Line2D at 0x7f2832e62a00>],\n",
       " 'caps': [<matplotlib.lines.Line2D at 0x7f2833b18f10>,\n",
       "  <matplotlib.lines.Line2D at 0x7f2833b18fd0>,\n",
       "  <matplotlib.lines.Line2D at 0x7f2833a87250>,\n",
       "  <matplotlib.lines.Line2D at 0x7f2833a87730>],\n",
       " 'boxes': [<matplotlib.lines.Line2D at 0x7f28337352b0>,\n",
       "  <matplotlib.lines.Line2D at 0x7f2832e62940>],\n",
       " 'medians': [<matplotlib.lines.Line2D at 0x7f2833b18f40>,\n",
       "  <matplotlib.lines.Line2D at 0x7f2833a87ac0>],\n",
       " 'fliers': [<matplotlib.lines.Line2D at 0x7f2833b183a0>,\n",
       "  <matplotlib.lines.Line2D at 0x7f28322351c0>],\n",
       " 'means': [<matplotlib.lines.Line2D at 0x7f2833b18730>,\n",
       "  <matplotlib.lines.Line2D at 0x7f2833a87e20>]}"
      ]
     },
     "execution_count": 31,
     "metadata": {},
     "output_type": "execute_result"
    },
    {
     "data": {
      "image/png": "[encoded data removed]",
      "text/plain": [
       "<Figure size 432x288 with 1 Axes>"
      ]
     },
     "metadata": {
      "needs_background": "light"
     },
     "output_type": "display_data"
    }
   ],
   "source": [
    "lampu_a, lampu_b = tabel1['lampu_A'],tabel1['lampu_B']\n",
    "plt.boxplot([lampu_a,lampu_b],labels =['Lampu A', 'Lampu B'],showmeans = True)        "
   ]
  },
  {
   "cell_type": "markdown",
   "id": "5de04b0b-3714-4c31-a382-4a7040d74daa",
   "metadata": {},
   "source": [
    "## 2 Distribusi Normal"
   ]
  },
  {
   "cell_type": "code",
   "execution_count": 60,
   "id": "668cc31f-56f1-4973-b2ea-375c15405b9a",
   "metadata": {},
   "outputs": [
    {
     "data": {
      "text/plain": [
       "<AxesSubplot:ylabel='Density'>"
      ]
     },
     "execution_count": 60,
     "metadata": {},
     "output_type": "execute_result"
    },
    {
     "data": {
      "image/png": "[encoded data removed]",
      "text/plain": [
       "<Figure size 432x288 with 1 Axes>"
      ]
     },
     "metadata": {
      "needs_background": "light"
     },
     "output_type": "display_data"
    }
   ],
   "source": [
    "import numpy as np\n",
    "from scipy import stats\n",
    "import matplotlib.pyplot as plt, seaborn as sns\n",
    "\n",
    "X1 = stats.norm(8,2).rvs(1000)\n",
    "sns.kdeplot(X1, color='green', shade=\"True\")\n",
    "\n",
    "X2 = stats.norm(8,3).rvs(1000)\n",
    "sns.kdeplot(X2, color='blue', shade=\"True\")\n",
    "\n",
    "#########################\n",
    "# rata\" = 0 dan std = 1 #\n",
    "#########################\n",
    "#prosses standarisasi\n",
    "\n",
    "Xstandar = (X1 - X1.mean()) / X1.std()\n",
    "sns.kdeplot(Xstandar, color='red', shade=\"True\")"
   ]
  },
  {
   "cell_type": "markdown",
   "id": "ce3e3727-0fa3-4ace-9c33-7d93761d917c",
   "metadata": {},
   "source": [
    "## 3 Teknik Gradien Descent"
   ]
  },
  {
   "cell_type": "code",
   "execution_count": 85,
   "id": "e2e8f9be-e602-41fc-9e1a-6e1b2481534e",
   "metadata": {},
   "outputs": [
    {
     "data": {
      "text/plain": [
       "[<matplotlib.lines.Line2D at 0x7fe891930a30>]"
      ]
     },
     "execution_count": 85,
     "metadata": {},
     "output_type": "execute_result"
    },
    {
     "data": {
      "image/png": "[encoded data removed]",
      "text/plain": [
       "<Figure size 432x288 with 1 Axes>"
      ]
     },
     "metadata": {
      "needs_background": "light"
     },
     "output_type": "display_data"
    }
   ],
   "source": [
    "import numpy as np, matplotlib.pyplot as plt\n",
    "\n",
    "np.random.seed(10)\n",
    "\n",
    "X = 2*np.random.rand(100,1)\n",
    "bias = np.random.rand(100,1)\n",
    "Y = 4 + 3*X + bias\n",
    "\n",
    "plt.plot(X,Y,'.k')"
   ]
  },
  {
   "cell_type": "code",
   "execution_count": 86,
   "id": "e106b522-cd52-42a0-b4dd-cebf6e0ce1b3",
   "metadata": {},
   "outputs": [
    {
     "name": "stdout",
     "output_type": "stream",
     "text": [
      "[1.33332845] [1.2292649]\n"
     ]
    }
   ],
   "source": [
    "# m(Gradient/kemiringan) c(Intercept / titik potong)\n",
    "m, c = 0, 0\n",
    "L = 0.01\n",
    "n = len(X)\n",
    "\n",
    "for i in range(10):\n",
    "    Ypred = m * X + c\n",
    "    Dm = (-2 / n) * sum(X * (Y - Ypred))\n",
    "    Dc = (-2 / n) * sum(Y - Ypred)\n",
    "    m = m - L * Dm\n",
    "    c = c - L * Dc\n",
    "\n",
    "print (m,c)"
   ]
  },
  {
   "cell_type": "code",
   "execution_count": 87,
   "id": "203343d6-4fc8-485a-b7ec-3c0700ef0df7",
   "metadata": {},
   "outputs": [
    {
     "data": {
      "text/plain": [
       "[<matplotlib.lines.Line2D at 0x7f2831013940>]"
      ]
     },
     "execution_count": 87,
     "metadata": {},
     "output_type": "execute_result"
    },
    {
     "data": {
      "image/png": "[encoded data removed]",
      "text/plain": [
       "<Figure size 432x288 with 1 Axes>"
      ]
     },
     "metadata": {
      "needs_background": "light"
     },
     "output_type": "display_data"
    }
   ],
   "source": [
    "Ygaris = m * X + c\n",
    "plt.plot([min(X),max(X)],[min(Ygaris),max(Ygaris)])\n",
    "plt.plot(X,Y,'.k')"
   ]
  },
  {
   "cell_type": "code",
   "execution_count": 90,
   "id": "20cb5080-241f-471c-a570-862c577b8822",
   "metadata": {},
   "outputs": [
    {
     "data": {
      "text/plain": [
       "[<matplotlib.lines.Line2D at 0x7f2830eb65b0>]"
      ]
     },
     "execution_count": 90,
     "metadata": {},
     "output_type": "execute_result"
    },
    {
     "data": {
      "image/png": "[encoded data removed]",
      "text/plain": [
       "<Figure size 432x288 with 1 Axes>"
      ]
     },
     "metadata": {
      "needs_background": "light"
     },
     "output_type": "display_data"
    }
   ],
   "source": [
    "#memperbanyak iterasi\n",
    "m1, c1 = 0, 0\n",
    "L = 0.01\n",
    "n = len(X)\n",
    "\n",
    "for i in range(30):\n",
    "    Ypred = m * X + c\n",
    "    Dm = (-2 / n) * sum(X * (Y - Ypred))\n",
    "    Dc = (-2 / n) * sum(Y - Ypred)\n",
    "    m1 = m1 - L * Dm\n",
    "    c1 = c1 - L * Dc\n",
    "\n",
    "#Garis Baru\n",
    "Ygaris1 = m1 * X + c1\n",
    "plt.plot([min(X),max(X)],[min(Ygaris1),max(Ygaris1)] ,'r')\n",
    "\n",
    "#Garis sebelum nya\n",
    "Ygaris = m * X + c\n",
    "plt.plot([min(X),max(X)],[min(Ygaris),max(Ygaris)])\n",
    "\n",
    "plt.plot(X,Y,'.k')\n",
    "\n",
    "#akan tetapi banyak nya perulangan tidak menjamin garis akan nge fit pada titik\n",
    "#melainkan yang mempengaruhi adalah learning rate"
   ]
  },
  {
   "cell_type": "code",
   "execution_count": 111,
   "id": "730f148f-8aec-424c-8742-fcaf26ddff0a",
   "metadata": {},
   "outputs": [
    {
     "data": {
      "text/plain": [
       "[<matplotlib.lines.Line2D at 0x7f28308e20d0>]"
      ]
     },
     "execution_count": 111,
     "metadata": {},
     "output_type": "execute_result"
    },
    {
     "data": {
      "image/png": "[encoded data removed]",
      "text/plain": [
       "<Figure size 432x288 with 1 Axes>"
      ]
     },
     "metadata": {
      "needs_background": "light"
     },
     "output_type": "display_data"
    }
   ],
   "source": [
    "m2, c2 = 0, 0\n",
    "L2 = 0.001\n",
    "n = len(X)\n",
    "\n",
    "for i in range(360):\n",
    "    Ypred = m * X + c\n",
    "    Dm = (-2 / n) * sum(X * (Y - Ypred))\n",
    "    Dc = (-2 / n) * sum(Y - Ypred)\n",
    "    m2 = m2 - L2 * Dm\n",
    "    c2 = c2 - L2 * Dc\n",
    "\n",
    "#Garis Baru / Garis 3\n",
    "Ygaris2 = m2 * X + c2\n",
    "plt.plot([min(X),max(X)],[min(Ygaris2),max(Ygaris2)] ,'g')\n",
    "    \n",
    "#Garis sebelum nya / Garis 2\n",
    "Ygaris1 = m1 * X + c1\n",
    "plt.plot([min(X),max(X)],[min(Ygaris1),max(Ygaris1)] ,'r')\n",
    "\n",
    "#Garis sebelum nya /Garis 1\n",
    "Ygaris = m * X + c\n",
    "plt.plot([min(X),max(X)],[min(Ygaris),max(Ygaris)])\n",
    "\n",
    "plt.plot(X,Y,'.k')"
   ]
  },
  {
   "cell_type": "markdown",
   "id": "84b45dac-83de-4848-a4b3-9517b38d6f1c",
   "metadata": {
    "tags": []
   },
   "source": [
    "### Menggunakan Teknik Mechine learning Linear regresion"
   ]
  },
  {
   "cell_type": "markdown",
   "id": "8070a64b-7241-420a-86e6-fb8ff22ea4f9",
   "metadata": {},
   "source": [
    "It is important to know how the relationship between the values of the x-axis and the values of the y-axis is, if there are no relationship the linear regression can not be used to predict anything.\n",
    "\n",
    "This relationship - the coefficient of correlation - is called r.\n",
    "\n",
    "The r value ranges from -1 to 1, where 0 means no relationship, and 1 (and -1) means 100% related.\n",
    "\n",
    "Python and the Scipy module will compute this value for you, all you have to do is feed it with the x and y values."
   ]
  },
  {
   "cell_type": "code",
   "execution_count": 81,
   "id": "1f2a63e7-1c8c-4bed-ba5b-b62c502b6dba",
   "metadata": {
    "tags": []
   },
   "outputs": [
    {
     "data": {
      "image/png": "[encoded data removed]",
      "text/plain": [
       "<Figure size 432x288 with 1 Axes>"
      ]
     },
     "metadata": {
      "needs_background": "light"
     },
     "output_type": "display_data"
    }
   ],
   "source": [
    "from scipy import stats\n",
    "np.random.seed(10)\n",
    "\n",
    "X = 2*np.random.rand(100)\n",
    "bias = np.random.rand(100)\n",
    "Y = 4 + 3*X + bias\n",
    "\n",
    "slope, intercept, r, p, std_err = stats.linregress(X, Y)\n",
    "\n",
    "def myfunc(X):\n",
    "  return slope * X + intercept\n",
    "\n",
    "mymodel = list(map(myfunc, X))\n",
    "\n",
    "plt.scatter(X, Y)\n",
    "plt.plot(X, mymodel,'r')\n",
    "plt.show()"
   ]
  },
  {
   "cell_type": "code",
   "execution_count": 86,
   "id": "58ff7200-0c8e-47de-8b13-b7b95187fa6e",
   "metadata": {},
   "outputs": [
    {
     "data": {
      "text/plain": [
       "0.9862545874460299"
      ]
     },
     "execution_count": 86,
     "metadata": {},
     "output_type": "execute_result"
    }
   ],
   "source": [
    "r"
   ]
  },
  {
   "cell_type": "markdown",
   "id": "4b0aa1f5-f612-4dfe-90bd-7ba4152dae14",
   "metadata": {},
   "source": [
    "## Stochastic Gradient Descent"
   ]
  },
  {
   "cell_type": "code",
   "execution_count": 144,
   "id": "9e1e483a-5ce1-43af-859b-77bd0dec97a7",
   "metadata": {},
   "outputs": [
    {
     "data": {
      "text/plain": [
       "[<matplotlib.lines.Line2D at 0x7fe88ff7e070>]"
      ]
     },
     "execution_count": 144,
     "metadata": {},
     "output_type": "execute_result"
    },
    {
     "data": {
      "image/png": "[encoded data removed]",
      "text/plain": [
       "<Figure size 432x288 with 1 Axes>"
      ]
     },
     "metadata": {
      "needs_background": "light"
     },
     "output_type": "display_data"
    }
   ],
   "source": [
    "import numpy as np, matplotlib.pyplot as plt\n",
    "\n",
    "np.random.seed(10)\n",
    "\n",
    "X = 2*np.random.rand(100,1)\n",
    "bias = np.random.rand(100,1)\n",
    "Y = 4 + 3*X + bias\n",
    "\n",
    "m, c = 0, 0\n",
    "L = 0.01\n",
    "n = len(X)\n",
    "\n",
    "for epoch in range (1000):\n",
    "    for i in range(100):\n",
    "        index = np.random.randint(100)\n",
    "        \n",
    "        Xacak = X[index : index+1]\n",
    "        Yacak = Y[index : index+1]\n",
    "        \n",
    "        Ypred = m * Xacak + c\n",
    "        Dm = (-2 / n) * sum(Xacak * (Yacak - Ypred))\n",
    "        Dc = (-2 / n) * sum(Yacak - Ypred)\n",
    "        m = m - L * Dm\n",
    "        c = c - L * Dc\n",
    "\n",
    "# print (m,c)\n",
    "\n",
    "Ygaris = m * X + c\n",
    "plt.plot([min(X),max(X)],[min(Ygaris),max(Ygaris)],'r')\n",
    "\n",
    "plt.plot(X,Y,'.k')"
   ]
  },
  {
   "cell_type": "markdown",
   "id": "a14c119f-42fd-45ee-a139-a3abbdb29ebb",
   "metadata": {},
   "source": [
    "## 4 Statistika Inferensial"
   ]
  },
  {
   "cell_type": "code",
   "execution_count": 118,
   "id": "17e903d9-9b4b-4a6a-abb5-d9c5045cab93",
   "metadata": {},
   "outputs": [
    {
     "data": {
      "text/plain": [
       "0.9065824910065282"
      ]
     },
     "execution_count": 118,
     "metadata": {},
     "output_type": "execute_result"
    }
   ],
   "source": [
    "import numpy as np\n",
    "from scipy import stats\n",
    "\n",
    "z1 = 1.32\n",
    "cdf1 = stats.norm(0,1).cdf(z1)\n",
    "cdf1"
   ]
  },
  {
   "cell_type": "markdown",
   "id": "40d96ff6-cc4a-4bf1-9e0b-21f59a3eceaf",
   "metadata": {
    "tags": []
   },
   "source": [
    "Suatu sekolah tertentu berjumlah 200 siswa di ukur IQ nya, didapatkan rata rata IQ Mereka adalah 130 dengan simpangan baku 40 jika hasil pengukuran itu berdistribusi secara normal tantukanlah:\n",
    "Berapa siswa yang memiliki IQ di bawah 140"
   ]
  },
  {
   "cell_type": "code",
   "execution_count": 119,
   "id": "1ebe32a1-3a8d-4fc3-91a7-14dbc090ecaf",
   "metadata": {},
   "outputs": [
    {
     "data": {
      "text/plain": [
       "0.5987063256829237"
      ]
     },
     "execution_count": 119,
     "metadata": {},
     "output_type": "execute_result"
    }
   ],
   "source": [
    "#rumus Z = x - rata\" / Simapangan baku Maka:\n",
    "\n",
    "Z = (140 - 130) / 40\n",
    "cdf1 = stats.norm(0,1).cdf(Z)\n",
    "cdf1"
   ]
  },
  {
   "cell_type": "markdown",
   "id": "6c3fcdb6-e38c-41fa-932c-c2ec9c0e50c2",
   "metadata": {},
   "source": [
    "Maka dapat di tarik kesimpulan bahawa siswa yang IQ nya dibawah 140 ada sebanayak 59%"
   ]
  },
  {
   "cell_type": "markdown",
   "id": "a3f46b41-58dd-4c76-8a40-8d206bba6961",
   "metadata": {
    "tags": []
   },
   "source": [
    "## 5 Confident Interval"
   ]
  },
  {
   "cell_type": "markdown",
   "id": "86bf8d7f-9b94-43b0-8598-65803b612945",
   "metadata": {},
   "source": [
    "#### EBM (Eror Bound of the mean = Z*std(p atau s)/sqrt(s atau p)\n",
    "- s (sample) dan\n",
    "- p (populasi)\n",
    "\n",
    "dan klau kondisi data < 30 , std tidak di ketahui maka\n",
    "#### EBM (Eror Bound of the mean = t*std(p atau s)/sqrt(s atau p)\n",
    "\n",
    "### Contoh\n",
    "Data berat kelinci di suatu pulau itu berdistribusi secara normal, dengan standar deviasi nya sebesar 8. lalu 40 ekor kelinci diambil secara acak. Didapatkan rata-rata sampel nya adalah 10kg. Tentukan 95% confident interval nya"
   ]
  },
  {
   "cell_type": "code",
   "execution_count": 2,
   "id": "961d20a4-52c6-4679-a0b5-dcf95870ff32",
   "metadata": {},
   "outputs": [
    {
     "data": {
      "text/plain": [
       "(7.520819870781754, 12.479180129218246)"
      ]
     },
     "execution_count": 2,
     "metadata": {},
     "output_type": "execute_result"
    }
   ],
   "source": [
    "import numpy as np\n",
    "\n",
    "from scipy import stats\n",
    "from numpy import sqrt\n",
    "\n",
    "conf_int = stats.norm.interval(0.95, loc = 10, scale = 8/sqrt(40))\n",
    "conf_int"
   ]
  },
  {
   "cell_type": "code",
   "execution_count": null,
   "id": "9774dfe8-3d7a-4872-a88b-376f7fae6b2e",
   "metadata": {},
   "outputs": [],
   "source": []
  }
 ],
 "metadata": {
  "kernelspec": {
   "display_name": "Python 3 (ipykernel)",
   "language": "python",
   "name": "python3"
  },
  "language_info": {
   "codemirror_mode": {
    "name": "ipython",
    "version": 3
   },
   "file_extension": ".py",
   "mimetype": "text/x-python",
   "name": "python",
   "nbconvert_exporter": "python",
   "pygments_lexer": "ipython3",
   "version": "3.8.8"
  }
 },
 "nbformat": 4,
 "nbformat_minor": 5
}
