{
 "cells": [
  {
   "cell_type": "code",
   "execution_count": 5,
   "id": "db17a2b9-42b6-4a63-bd2c-7e3a11aee86d",
   "metadata": {},
   "outputs": [
    {
     "name": "stdout",
     "output_type": "stream",
     "text": [
      "1.21.2\n",
      "1.3.2\n"
     ]
    }
   ],
   "source": [
    "import pandas as pd\n",
    "import numpy as np\n",
    "import matplotlib.pyplot as plt\n",
    "print(np.__version__)\n",
    "print(pd.__version__)"
   ]
  },
  {
   "cell_type": "markdown",
   "id": "ebb5b6a4-7412-4f02-887f-fa37f67eb65a",
   "metadata": {},
   "source": [
    "## Add Prefix pandas"
   ]
  },
  {
   "cell_type": "code",
   "execution_count": null,
   "id": "37a8e455-f603-4109-9b82-ea0fd0d71d2f",
   "metadata": {},
   "outputs": [],
   "source": [
    "import pandas as pd\n",
    "import numpy as np\n",
    "\n",
    "n_rows = 5\n",
    "n_cols = 5\n",
    "\n",
    "df = pd.DataFrame(np.random.randint(1,10,size =(n_rows,n_cols)),columns=['a','b','c','d','e'])\n",
    "df.add_prefix('kolom_')"
   ]
  },
  {
   "cell_type": "markdown",
   "id": "76fda1ba-ca0b-4d19-b394-115281f64277",
   "metadata": {},
   "source": [
    "# Select Baris dan Kolom"
   ]
  },
  {
   "cell_type": "code",
   "execution_count": null,
   "id": "d6a79682-188c-4baf-a72f-0fdda60802f4",
   "metadata": {},
   "outputs": [],
   "source": [
    "n_rows = 10\n",
    "n_cols = 5\n",
    "\n",
    "df = pd.DataFrame(np.random.randint(1,10,size =(n_rows,n_cols)),columns=['a','b','c','d','e'])\n",
    "df"
   ]
  },
  {
   "cell_type": "code",
   "execution_count": null,
   "id": "18f402ce-fa5a-45af-9f8b-9cb03e901f72",
   "metadata": {},
   "outputs": [],
   "source": [
    "df[(df['a']==9) & (df['d']==2)]\n",
    "# df[(df['a'].isin([1,2]))]"
   ]
  },
  {
   "cell_type": "markdown",
   "id": "1a662040-7d64-4e8e-9f30-a8f39e132bd7",
   "metadata": {},
   "source": [
    "# select data berdasarkan tipe data"
   ]
  },
  {
   "cell_type": "code",
   "execution_count": null,
   "id": "2fad1de7-f25e-4954-9c9a-bec890b334cc",
   "metadata": {},
   "outputs": [],
   "source": [
    "n_rows = 3\n",
    "n_cols = 2\n",
    "cols = ['a','b']\n",
    "\n",
    "df = pd.DataFrame(np.random.randint(1,10,size =(n_rows,n_cols)),columns=cols)\n",
    "\n",
    "# Ubah seluruh colom a jadi float klw tidak bisa pake method to int\n",
    "df['a']= df['a'].astype('float')\n",
    "\n",
    "df.dtypes"
   ]
  },
  {
   "cell_type": "code",
   "execution_count": null,
   "id": "fce46063-4a0a-4315-ae38-740983a320ef",
   "metadata": {},
   "outputs": [],
   "source": [
    "df.select_dtypes('float')"
   ]
  },
  {
   "cell_type": "markdown",
   "id": "6182748c-cbc9-4b54-827c-ee3a316bcf8e",
   "metadata": {},
   "source": [
    "# Membalik baris atau kolom"
   ]
  },
  {
   "cell_type": "code",
   "execution_count": null,
   "id": "03859b81-57fd-4cbe-917c-37db556fcae9",
   "metadata": {},
   "outputs": [],
   "source": [
    "n_rows = 5\n",
    "n_cols = 5\n",
    "\n",
    "df = pd.DataFrame(np.random.randint(1,10,size =(n_rows,n_cols)),columns=['a','b','c','d','e'])\n",
    "df"
   ]
  },
  {
   "cell_type": "code",
   "execution_count": null,
   "id": "2fd2dddd-9329-4c0a-a112-3c4f7e884e9b",
   "metadata": {},
   "outputs": [],
   "source": [
    "df.loc[:,::-1]"
   ]
  },
  {
   "cell_type": "code",
   "execution_count": null,
   "id": "fcd44f8e-1eb2-43b0-a1f5-3a236bf3d814",
   "metadata": {},
   "outputs": [],
   "source": [
    "df.loc[::-1]\n",
    "df.reset_index(drop=True)"
   ]
  },
  {
   "cell_type": "markdown",
   "id": "14bea20d-e8fd-4af0-a4d7-1f4683bb7d2b",
   "metadata": {},
   "source": [
    "## Aljabar / Aljebra"
   ]
  },
  {
   "cell_type": "code",
   "execution_count": 1,
   "id": "8f10eb82-ad9f-44a2-b967-f25e70951c9e",
   "metadata": {},
   "outputs": [],
   "source": [
    "import sympy as sym\n",
    "from IPython.display import Math"
   ]
  },
  {
   "cell_type": "code",
   "execution_count": 2,
   "id": "9792761b-13dc-4e5e-8ccb-2703701264d6",
   "metadata": {},
   "outputs": [],
   "source": [
    "x = sym.symbols('x')"
   ]
  },
  {
   "cell_type": "code",
   "execution_count": 3,
   "id": "b585e8b4-eb5c-437c-8730-b5affb3d60d3",
   "metadata": {},
   "outputs": [],
   "source": [
    "p = 5*x - 5 + 20"
   ]
  },
  {
   "cell_type": "code",
   "execution_count": 4,
   "id": "12956a73-37b1-4bda-820d-ca116f066848",
   "metadata": {},
   "outputs": [
    {
     "data": {
      "text/latex": [
       "$\\displaystyle 5 x + 15$"
      ],
      "text/plain": [
       "5*x + 15"
      ]
     },
     "execution_count": 4,
     "metadata": {},
     "output_type": "execute_result"
    }
   ],
   "source": [
    "p"
   ]
  },
  {
   "cell_type": "code",
   "execution_count": 5,
   "id": "bcb32bf1-e453-4256-8a84-d243b76fe206",
   "metadata": {},
   "outputs": [
    {
     "data": {
      "text/plain": [
       "[-3]"
      ]
     },
     "execution_count": 5,
     "metadata": {},
     "output_type": "execute_result"
    }
   ],
   "source": [
    "sym.solve(p)"
   ]
  },
  {
   "cell_type": "code",
   "execution_count": 6,
   "id": "92f952fb-1cb3-4f02-9caa-31d1c8c7de11",
   "metadata": {},
   "outputs": [
    {
     "data": {
      "text/latex": [
       "$\\displaystyle 0$"
      ],
      "text/plain": [
       "0"
      ]
     },
     "execution_count": 6,
     "metadata": {},
     "output_type": "execute_result"
    }
   ],
   "source": [
    "p.subs(x,-3)"
   ]
  },
  {
   "cell_type": "code",
   "execution_count": 7,
   "id": "058567dd-96c7-42bd-9220-69c6e63b4562",
   "metadata": {
    "tags": []
   },
   "outputs": [
    {
     "data": {
      "text/latex": [
       "$\\displaystyle \\text {Solusi dari persamaan 5 x + 15} \\text{ adalah x = -3}$"
      ],
      "text/plain": [
       "<IPython.core.display.Math object>"
      ]
     },
     "metadata": {},
     "output_type": "display_data"
    }
   ],
   "source": [
    "display(Math('\\\\text {Solusi dari persamaan %s} \\\\text{ adalah x = %g}'%(sym.latex(p),sym.solve(p)[0])))"
   ]
  },
  {
   "cell_type": "code",
   "execution_count": 18,
   "id": "e0af6040-0926-454b-ba17-ce133e454b3f",
   "metadata": {},
   "outputs": [],
   "source": [
    "x,y,z = sym.symbols('x,y,z')"
   ]
  },
  {
   "cell_type": "code",
   "execution_count": 41,
   "id": "98e2331e-deaf-4502-a2ee-ef21647f1889",
   "metadata": {},
   "outputs": [],
   "source": [
    "persamaan1 =(x**x)/(x**y)"
   ]
  },
  {
   "cell_type": "code",
   "execution_count": 42,
   "id": "1d5a102a-6dc6-455b-9b9a-207af4cf7c95",
   "metadata": {},
   "outputs": [
    {
     "data": {
      "text/latex": [
       "$\\displaystyle x^{x} x^{- y}$"
      ],
      "text/plain": [
       "x**x*x**(-y)"
      ]
     },
     "metadata": {},
     "output_type": "display_data"
    },
    {
     "data": {
      "text/latex": [
       "$\\displaystyle x^{x} x^{- y}$"
      ],
      "text/plain": [
       "<IPython.core.display.Math object>"
      ]
     },
     "metadata": {},
     "output_type": "display_data"
    },
    {
     "data": {
      "text/latex": [
       "$\\displaystyle x^{x} x^{- y}$"
      ],
      "text/plain": [
       "x**x*x**(-y)"
      ]
     },
     "execution_count": 42,
     "metadata": {},
     "output_type": "execute_result"
    }
   ],
   "source": [
    "display(persamaan1)\n",
    "display(Math(sym.latex(persamaan1)))\n",
    "persamaan1"
   ]
  },
  {
   "cell_type": "code",
   "execution_count": 43,
   "id": "c2837557-242f-4f6c-bd05-3031f00718fb",
   "metadata": {},
   "outputs": [
    {
     "data": {
      "text/latex": [
       "$\\displaystyle x^{x - y}$"
      ],
      "text/plain": [
       "x**(x - y)"
      ]
     },
     "metadata": {},
     "output_type": "display_data"
    }
   ],
   "source": [
    "display(sym.simplify(persamaan1))"
   ]
  },
  {
   "cell_type": "code",
   "execution_count": 53,
   "id": "2eaacad3-e137-4a56-85c1-f2f8f7bfb927",
   "metadata": {},
   "outputs": [],
   "source": [
    "a = (x+y+1)\n",
    "b = (x+1)"
   ]
  },
  {
   "cell_type": "code",
   "execution_count": 56,
   "id": "19f9ed84-1f91-469e-a783-cb0c37407485",
   "metadata": {},
   "outputs": [
    {
     "data": {
      "text/latex": [
       "$\\displaystyle \\frac{x}{x + 1} + \\frac{y}{x + 1} + \\frac{1}{x + 1}$"
      ],
      "text/plain": [
       "x/(x + 1) + y/(x + 1) + 1/(x + 1)"
      ]
     },
     "metadata": {},
     "output_type": "display_data"
    },
    {
     "data": {
      "text/latex": [
       "$\\displaystyle \\frac{x + y + 1}{x + 1}$"
      ],
      "text/plain": [
       "(x + y + 1)/(x + 1)"
      ]
     },
     "metadata": {},
     "output_type": "display_data"
    }
   ],
   "source": [
    "display(sym.expand(a/b))\n",
    "display(sym.simplify(a/b))"
   ]
  },
  {
   "cell_type": "code",
   "execution_count": 57,
   "id": "17512489-29a8-4dab-8d94-ba9e0d8aa12a",
   "metadata": {},
   "outputs": [
    {
     "name": "stdout",
     "output_type": "stream",
     "text": [
      "Variable     Type      Data/Info\n",
      "--------------------------------\n",
      "Math         type      <class 'IPython.core.display.Math'>\n",
      "a            Add       x + y + 1\n",
      "b            Add       x + 1\n",
      "p            Add       5*x + 15\n",
      "persamaan1   Mul       x**x*x**(-y)\n",
      "sym          module    <module 'sympy' from '/ho<...>kages/sympy/__init__.py'>\n",
      "x            Symbol    x\n",
      "y            Symbol    y\n",
      "z            Symbol    z\n"
     ]
    }
   ],
   "source": [
    "%whos"
   ]
  }
 ],
 "metadata": {
  "kernelspec": {
   "display_name": "Python 3 (ipykernel)",
   "language": "python",
   "name": "python3"
  },
  "language_info": {
   "codemirror_mode": {
    "name": "ipython",
    "version": 3
   },
   "file_extension": ".py",
   "mimetype": "text/x-python",
   "name": "python",
   "nbconvert_exporter": "python",
   "pygments_lexer": "ipython3",
   "version": "3.8.8"
  }
 },
 "nbformat": 4,
 "nbformat_minor": 5
}
